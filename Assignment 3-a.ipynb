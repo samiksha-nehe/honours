{
  "nbformat": 4,
  "nbformat_minor": 0,
  "metadata": {
    "colab": {
      "name": "Untitled0.ipynb",
      "provenance": [],
      "collapsed_sections": [],
      "authorship_tag": "ABX9TyOx8GrWNZbqoYgyLC/1xQl4",
      "include_colab_link": true
    },
    "kernelspec": {
      "name": "python3",
      "display_name": "Python 3"
    },
    "language_info": {
      "name": "python"
    }
  },
  "cells": [
    {
      "cell_type": "markdown",
      "metadata": {
        "id": "view-in-github",
        "colab_type": "text"
      },
      "source": [
        "<a href=\"https://colab.research.google.com/github/samiksha-nehe/honours/blob/main/Assignment%203-a.ipynb\" target=\"_parent\"><img src=\"https://colab.research.google.com/assets/colab-badge.svg\" alt=\"Open In Colab\"/></a>"
      ]
    },
    {
      "cell_type": "code",
      "metadata": {
        "id": "893OrTkKOc_9"
      },
      "source": [
        "import pandas as pd"
      ],
      "execution_count": 1,
      "outputs": []
    },
    {
      "cell_type": "code",
      "metadata": {
        "id": "Si9qP8-LOmKI"
      },
      "source": [
        "import numpy as np"
      ],
      "execution_count": 2,
      "outputs": []
    },
    {
      "cell_type": "code",
      "metadata": {
        "id": "6i4OtNR4Opkr"
      },
      "source": [
        "from keras.models import Sequential\n",
        "from keras.layers.core import Dense"
      ],
      "execution_count": 3,
      "outputs": []
    },
    {
      "cell_type": "code",
      "metadata": {
        "id": "Y4vjGniKOso2"
      },
      "source": [
        "input = np.array([[0,0],[0,1],[1,0],[1,1]])\n",
        "output = np.array([[0],[0],[0],[1]])"
      ],
      "execution_count": 4,
      "outputs": []
    },
    {
      "cell_type": "code",
      "metadata": {
        "id": "NpnAGDH4OwoC"
      },
      "source": [
        "model = Sequential()\n",
        "model.add(Dense(16, input_dim=2, activation='relu'))\n",
        "model.add(Dense(1, activation='sigmoid'))\n",
        "model.compile(loss='mean_squared_error',optimizer='adam', metrics=['binary_accuracy'])"
      ],
      "execution_count": 5,
      "outputs": []
    },
    {
      "cell_type": "code",
      "metadata": {
        "colab": {
          "base_uri": "https://localhost:8080/"
        },
        "id": "JiapEgKVOzgJ",
        "outputId": "52164800-a55b-4644-e78b-d497f583fee6"
      },
      "source": [
        "model.fit(input, output, epochs=100, verbose=2)"
      ],
      "execution_count": 6,
      "outputs": [
        {
          "output_type": "stream",
          "name": "stdout",
          "text": [
            "Epoch 1/100\n",
            "1/1 - 1s - loss: 0.2486 - binary_accuracy: 0.7500\n",
            "Epoch 2/100\n",
            "1/1 - 0s - loss: 0.2481 - binary_accuracy: 0.7500\n",
            "Epoch 3/100\n",
            "1/1 - 0s - loss: 0.2476 - binary_accuracy: 0.7500\n",
            "Epoch 4/100\n",
            "1/1 - 0s - loss: 0.2471 - binary_accuracy: 0.7500\n",
            "Epoch 5/100\n",
            "1/1 - 0s - loss: 0.2466 - binary_accuracy: 0.7500\n",
            "Epoch 6/100\n",
            "1/1 - 0s - loss: 0.2461 - binary_accuracy: 0.7500\n",
            "Epoch 7/100\n",
            "1/1 - 0s - loss: 0.2456 - binary_accuracy: 0.7500\n",
            "Epoch 8/100\n",
            "1/1 - 0s - loss: 0.2451 - binary_accuracy: 0.7500\n",
            "Epoch 9/100\n",
            "1/1 - 0s - loss: 0.2445 - binary_accuracy: 0.7500\n",
            "Epoch 10/100\n",
            "1/1 - 0s - loss: 0.2440 - binary_accuracy: 0.7500\n",
            "Epoch 11/100\n",
            "1/1 - 0s - loss: 0.2435 - binary_accuracy: 0.7500\n",
            "Epoch 12/100\n",
            "1/1 - 0s - loss: 0.2430 - binary_accuracy: 0.7500\n",
            "Epoch 13/100\n",
            "1/1 - 0s - loss: 0.2425 - binary_accuracy: 0.7500\n",
            "Epoch 14/100\n",
            "1/1 - 0s - loss: 0.2420 - binary_accuracy: 0.7500\n",
            "Epoch 15/100\n",
            "1/1 - 0s - loss: 0.2415 - binary_accuracy: 0.7500\n",
            "Epoch 16/100\n",
            "1/1 - 0s - loss: 0.2410 - binary_accuracy: 0.7500\n",
            "Epoch 17/100\n",
            "1/1 - 0s - loss: 0.2405 - binary_accuracy: 0.7500\n",
            "Epoch 18/100\n",
            "1/1 - 0s - loss: 0.2400 - binary_accuracy: 1.0000\n",
            "Epoch 19/100\n",
            "1/1 - 0s - loss: 0.2395 - binary_accuracy: 1.0000\n",
            "Epoch 20/100\n",
            "1/1 - 0s - loss: 0.2390 - binary_accuracy: 1.0000\n",
            "Epoch 21/100\n",
            "1/1 - 0s - loss: 0.2385 - binary_accuracy: 1.0000\n",
            "Epoch 22/100\n",
            "1/1 - 0s - loss: 0.2380 - binary_accuracy: 1.0000\n",
            "Epoch 23/100\n",
            "1/1 - 0s - loss: 0.2375 - binary_accuracy: 1.0000\n",
            "Epoch 24/100\n",
            "1/1 - 0s - loss: 0.2370 - binary_accuracy: 1.0000\n",
            "Epoch 25/100\n",
            "1/1 - 0s - loss: 0.2365 - binary_accuracy: 1.0000\n",
            "Epoch 26/100\n",
            "1/1 - 0s - loss: 0.2360 - binary_accuracy: 1.0000\n",
            "Epoch 27/100\n",
            "1/1 - 0s - loss: 0.2355 - binary_accuracy: 1.0000\n",
            "Epoch 28/100\n",
            "1/1 - 0s - loss: 0.2350 - binary_accuracy: 1.0000\n",
            "Epoch 29/100\n",
            "1/1 - 0s - loss: 0.2344 - binary_accuracy: 1.0000\n",
            "Epoch 30/100\n",
            "1/1 - 0s - loss: 0.2339 - binary_accuracy: 1.0000\n",
            "Epoch 31/100\n",
            "1/1 - 0s - loss: 0.2334 - binary_accuracy: 1.0000\n",
            "Epoch 32/100\n",
            "1/1 - 0s - loss: 0.2329 - binary_accuracy: 1.0000\n",
            "Epoch 33/100\n",
            "1/1 - 0s - loss: 0.2324 - binary_accuracy: 1.0000\n",
            "Epoch 34/100\n",
            "1/1 - 0s - loss: 0.2318 - binary_accuracy: 1.0000\n",
            "Epoch 35/100\n",
            "1/1 - 0s - loss: 0.2313 - binary_accuracy: 1.0000\n",
            "Epoch 36/100\n",
            "1/1 - 0s - loss: 0.2308 - binary_accuracy: 1.0000\n",
            "Epoch 37/100\n",
            "1/1 - 0s - loss: 0.2303 - binary_accuracy: 1.0000\n",
            "Epoch 38/100\n",
            "1/1 - 0s - loss: 0.2297 - binary_accuracy: 1.0000\n",
            "Epoch 39/100\n",
            "1/1 - 0s - loss: 0.2292 - binary_accuracy: 1.0000\n",
            "Epoch 40/100\n",
            "1/1 - 0s - loss: 0.2287 - binary_accuracy: 1.0000\n",
            "Epoch 41/100\n",
            "1/1 - 0s - loss: 0.2281 - binary_accuracy: 1.0000\n",
            "Epoch 42/100\n",
            "1/1 - 0s - loss: 0.2276 - binary_accuracy: 1.0000\n",
            "Epoch 43/100\n",
            "1/1 - 0s - loss: 0.2271 - binary_accuracy: 1.0000\n",
            "Epoch 44/100\n",
            "1/1 - 0s - loss: 0.2265 - binary_accuracy: 1.0000\n",
            "Epoch 45/100\n",
            "1/1 - 0s - loss: 0.2260 - binary_accuracy: 1.0000\n",
            "Epoch 46/100\n",
            "1/1 - 0s - loss: 0.2254 - binary_accuracy: 1.0000\n",
            "Epoch 47/100\n",
            "1/1 - 0s - loss: 0.2249 - binary_accuracy: 1.0000\n",
            "Epoch 48/100\n",
            "1/1 - 0s - loss: 0.2243 - binary_accuracy: 1.0000\n",
            "Epoch 49/100\n",
            "1/1 - 0s - loss: 0.2238 - binary_accuracy: 1.0000\n",
            "Epoch 50/100\n",
            "1/1 - 0s - loss: 0.2232 - binary_accuracy: 1.0000\n",
            "Epoch 51/100\n",
            "1/1 - 0s - loss: 0.2227 - binary_accuracy: 1.0000\n",
            "Epoch 52/100\n",
            "1/1 - 0s - loss: 0.2221 - binary_accuracy: 1.0000\n",
            "Epoch 53/100\n",
            "1/1 - 0s - loss: 0.2215 - binary_accuracy: 1.0000\n",
            "Epoch 54/100\n",
            "1/1 - 0s - loss: 0.2210 - binary_accuracy: 1.0000\n",
            "Epoch 55/100\n",
            "1/1 - 0s - loss: 0.2204 - binary_accuracy: 1.0000\n",
            "Epoch 56/100\n",
            "1/1 - 0s - loss: 0.2199 - binary_accuracy: 1.0000\n",
            "Epoch 57/100\n",
            "1/1 - 0s - loss: 0.2193 - binary_accuracy: 1.0000\n",
            "Epoch 58/100\n",
            "1/1 - 0s - loss: 0.2187 - binary_accuracy: 1.0000\n",
            "Epoch 59/100\n",
            "1/1 - 0s - loss: 0.2181 - binary_accuracy: 1.0000\n",
            "Epoch 60/100\n",
            "1/1 - 0s - loss: 0.2176 - binary_accuracy: 1.0000\n",
            "Epoch 61/100\n",
            "1/1 - 0s - loss: 0.2170 - binary_accuracy: 1.0000\n",
            "Epoch 62/100\n",
            "1/1 - 0s - loss: 0.2164 - binary_accuracy: 1.0000\n",
            "Epoch 63/100\n",
            "1/1 - 0s - loss: 0.2158 - binary_accuracy: 1.0000\n",
            "Epoch 64/100\n",
            "1/1 - 0s - loss: 0.2152 - binary_accuracy: 1.0000\n",
            "Epoch 65/100\n",
            "1/1 - 0s - loss: 0.2146 - binary_accuracy: 1.0000\n",
            "Epoch 66/100\n",
            "1/1 - 0s - loss: 0.2140 - binary_accuracy: 1.0000\n",
            "Epoch 67/100\n",
            "1/1 - 0s - loss: 0.2134 - binary_accuracy: 1.0000\n",
            "Epoch 68/100\n",
            "1/1 - 0s - loss: 0.2128 - binary_accuracy: 1.0000\n",
            "Epoch 69/100\n",
            "1/1 - 0s - loss: 0.2122 - binary_accuracy: 1.0000\n",
            "Epoch 70/100\n",
            "1/1 - 0s - loss: 0.2116 - binary_accuracy: 1.0000\n",
            "Epoch 71/100\n",
            "1/1 - 0s - loss: 0.2110 - binary_accuracy: 1.0000\n",
            "Epoch 72/100\n",
            "1/1 - 0s - loss: 0.2104 - binary_accuracy: 1.0000\n",
            "Epoch 73/100\n",
            "1/1 - 0s - loss: 0.2098 - binary_accuracy: 1.0000\n",
            "Epoch 74/100\n",
            "1/1 - 0s - loss: 0.2092 - binary_accuracy: 1.0000\n",
            "Epoch 75/100\n",
            "1/1 - 0s - loss: 0.2086 - binary_accuracy: 1.0000\n",
            "Epoch 76/100\n",
            "1/1 - 0s - loss: 0.2080 - binary_accuracy: 1.0000\n",
            "Epoch 77/100\n",
            "1/1 - 0s - loss: 0.2074 - binary_accuracy: 1.0000\n",
            "Epoch 78/100\n",
            "1/1 - 0s - loss: 0.2068 - binary_accuracy: 1.0000\n",
            "Epoch 79/100\n",
            "1/1 - 0s - loss: 0.2062 - binary_accuracy: 1.0000\n",
            "Epoch 80/100\n",
            "1/1 - 0s - loss: 0.2056 - binary_accuracy: 1.0000\n",
            "Epoch 81/100\n",
            "1/1 - 0s - loss: 0.2050 - binary_accuracy: 1.0000\n",
            "Epoch 82/100\n",
            "1/1 - 0s - loss: 0.2043 - binary_accuracy: 1.0000\n",
            "Epoch 83/100\n",
            "1/1 - 0s - loss: 0.2037 - binary_accuracy: 1.0000\n",
            "Epoch 84/100\n",
            "1/1 - 0s - loss: 0.2031 - binary_accuracy: 1.0000\n",
            "Epoch 85/100\n",
            "1/1 - 0s - loss: 0.2024 - binary_accuracy: 1.0000\n",
            "Epoch 86/100\n",
            "1/1 - 0s - loss: 0.2018 - binary_accuracy: 1.0000\n",
            "Epoch 87/100\n",
            "1/1 - 0s - loss: 0.2012 - binary_accuracy: 1.0000\n",
            "Epoch 88/100\n",
            "1/1 - 0s - loss: 0.2006 - binary_accuracy: 1.0000\n",
            "Epoch 89/100\n",
            "1/1 - 0s - loss: 0.1999 - binary_accuracy: 1.0000\n",
            "Epoch 90/100\n",
            "1/1 - 0s - loss: 0.1993 - binary_accuracy: 1.0000\n",
            "Epoch 91/100\n",
            "1/1 - 0s - loss: 0.1986 - binary_accuracy: 1.0000\n",
            "Epoch 92/100\n",
            "1/1 - 0s - loss: 0.1980 - binary_accuracy: 1.0000\n",
            "Epoch 93/100\n",
            "1/1 - 0s - loss: 0.1974 - binary_accuracy: 1.0000\n",
            "Epoch 94/100\n",
            "1/1 - 0s - loss: 0.1967 - binary_accuracy: 1.0000\n",
            "Epoch 95/100\n",
            "1/1 - 0s - loss: 0.1961 - binary_accuracy: 1.0000\n",
            "Epoch 96/100\n",
            "1/1 - 0s - loss: 0.1954 - binary_accuracy: 1.0000\n",
            "Epoch 97/100\n",
            "1/1 - 0s - loss: 0.1948 - binary_accuracy: 1.0000\n",
            "Epoch 98/100\n",
            "1/1 - 0s - loss: 0.1941 - binary_accuracy: 1.0000\n",
            "Epoch 99/100\n",
            "1/1 - 0s - loss: 0.1934 - binary_accuracy: 1.0000\n",
            "Epoch 100/100\n",
            "1/1 - 0s - loss: 0.1928 - binary_accuracy: 1.0000\n"
          ]
        },
        {
          "output_type": "execute_result",
          "data": {
            "text/plain": [
              "<keras.callbacks.History at 0x7f19f6d98ad0>"
            ]
          },
          "metadata": {},
          "execution_count": 6
        }
      ]
    },
    {
      "cell_type": "code",
      "metadata": {
        "colab": {
          "base_uri": "https://localhost:8080/"
        },
        "id": "nmCq47OoO5Ic",
        "outputId": "6d4770b8-11b0-4c7a-cd23-d58c0ae11151"
      },
      "source": [
        "print(\"Round off Values: \\n\",model.predict(input).round())\n",
        "print(\"Actual·Values:·\\n\",model.predict(input))"
      ],
      "execution_count": 7,
      "outputs": [
        {
          "output_type": "stream",
          "name": "stdout",
          "text": [
            "Round off Values: \n",
            " [[0.]\n",
            " [0.]\n",
            " [0.]\n",
            " [1.]]\n",
            "Actual·Values:·\n",
            " [[0.4269991 ]\n",
            " [0.4149718 ]\n",
            " [0.44662255]\n",
            " [0.53684   ]]\n"
          ]
        }
      ]
    },
    {
      "cell_type": "code",
      "metadata": {
        "id": "Mga2_jq_O_Ue"
      },
      "source": [
        ""
      ],
      "execution_count": null,
      "outputs": []
    }
  ]
}