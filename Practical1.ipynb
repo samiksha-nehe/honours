{
  "nbformat": 4,
  "nbformat_minor": 0,
  "metadata": {
    "colab": {
      "name": "Practical1.ipynb",
      "provenance": [],
      "collapsed_sections": [],
      "authorship_tag": "ABX9TyOZqRAsIxpl2zcGkQjYno9r",
      "include_colab_link": true
    },
    "kernelspec": {
      "name": "python3",
      "display_name": "Python 3"
    },
    "language_info": {
      "name": "python"
    }
  },
  "cells": [
    {
      "cell_type": "markdown",
      "metadata": {
        "id": "view-in-github",
        "colab_type": "text"
      },
      "source": [
        "<a href=\"https://colab.research.google.com/github/samiksha-nehe/honours/blob/main/Practical1.ipynb\" target=\"_parent\"><img src=\"https://colab.research.google.com/assets/colab-badge.svg\" alt=\"Open In Colab\"/></a>"
      ]
    },
    {
      "cell_type": "code",
      "metadata": {
        "id": "UWdKpT7kB_bh"
      },
      "source": [
        "import pandas as pd\n"
      ],
      "execution_count": 1,
      "outputs": []
    },
    {
      "cell_type": "code",
      "metadata": {
        "id": "2YazpDFaCLqn"
      },
      "source": [
        "df = pd.read_csv('/content/sample_data/housepricedata.csv')"
      ],
      "execution_count": 2,
      "outputs": []
    },
    {
      "cell_type": "code",
      "metadata": {
        "colab": {
          "base_uri": "https://localhost:8080/",
          "height": 444
        },
        "id": "CRYki-eoDDwE",
        "outputId": "65399409-7594-4786-dff1-44f1d559c347"
      },
      "source": [
        "df"
      ],
      "execution_count": 3,
      "outputs": [
        {
          "output_type": "execute_result",
          "data": {
            "text/html": [
              "<div>\n",
              "<style scoped>\n",
              "    .dataframe tbody tr th:only-of-type {\n",
              "        vertical-align: middle;\n",
              "    }\n",
              "\n",
              "    .dataframe tbody tr th {\n",
              "        vertical-align: top;\n",
              "    }\n",
              "\n",
              "    .dataframe thead th {\n",
              "        text-align: right;\n",
              "    }\n",
              "</style>\n",
              "<table border=\"1\" class=\"dataframe\">\n",
              "  <thead>\n",
              "    <tr style=\"text-align: right;\">\n",
              "      <th></th>\n",
              "      <th>LotArea</th>\n",
              "      <th>OverallQual</th>\n",
              "      <th>OverallCond</th>\n",
              "      <th>TotalBsmtSF</th>\n",
              "      <th>FullBath</th>\n",
              "      <th>HalfBath</th>\n",
              "      <th>BedroomAbvGr</th>\n",
              "      <th>TotRmsAbvGrd</th>\n",
              "      <th>Fireplaces</th>\n",
              "      <th>GarageArea</th>\n",
              "      <th>AboveMedianPrice</th>\n",
              "    </tr>\n",
              "  </thead>\n",
              "  <tbody>\n",
              "    <tr>\n",
              "      <th>0</th>\n",
              "      <td>8450</td>\n",
              "      <td>7</td>\n",
              "      <td>5</td>\n",
              "      <td>856</td>\n",
              "      <td>2</td>\n",
              "      <td>1</td>\n",
              "      <td>3</td>\n",
              "      <td>8</td>\n",
              "      <td>0</td>\n",
              "      <td>548</td>\n",
              "      <td>1</td>\n",
              "    </tr>\n",
              "    <tr>\n",
              "      <th>1</th>\n",
              "      <td>9600</td>\n",
              "      <td>6</td>\n",
              "      <td>8</td>\n",
              "      <td>1262</td>\n",
              "      <td>2</td>\n",
              "      <td>0</td>\n",
              "      <td>3</td>\n",
              "      <td>6</td>\n",
              "      <td>1</td>\n",
              "      <td>460</td>\n",
              "      <td>1</td>\n",
              "    </tr>\n",
              "    <tr>\n",
              "      <th>2</th>\n",
              "      <td>11250</td>\n",
              "      <td>7</td>\n",
              "      <td>5</td>\n",
              "      <td>920</td>\n",
              "      <td>2</td>\n",
              "      <td>1</td>\n",
              "      <td>3</td>\n",
              "      <td>6</td>\n",
              "      <td>1</td>\n",
              "      <td>608</td>\n",
              "      <td>1</td>\n",
              "    </tr>\n",
              "    <tr>\n",
              "      <th>3</th>\n",
              "      <td>9550</td>\n",
              "      <td>7</td>\n",
              "      <td>5</td>\n",
              "      <td>756</td>\n",
              "      <td>1</td>\n",
              "      <td>0</td>\n",
              "      <td>3</td>\n",
              "      <td>7</td>\n",
              "      <td>1</td>\n",
              "      <td>642</td>\n",
              "      <td>0</td>\n",
              "    </tr>\n",
              "    <tr>\n",
              "      <th>4</th>\n",
              "      <td>14260</td>\n",
              "      <td>8</td>\n",
              "      <td>5</td>\n",
              "      <td>1145</td>\n",
              "      <td>2</td>\n",
              "      <td>1</td>\n",
              "      <td>4</td>\n",
              "      <td>9</td>\n",
              "      <td>1</td>\n",
              "      <td>836</td>\n",
              "      <td>1</td>\n",
              "    </tr>\n",
              "    <tr>\n",
              "      <th>...</th>\n",
              "      <td>...</td>\n",
              "      <td>...</td>\n",
              "      <td>...</td>\n",
              "      <td>...</td>\n",
              "      <td>...</td>\n",
              "      <td>...</td>\n",
              "      <td>...</td>\n",
              "      <td>...</td>\n",
              "      <td>...</td>\n",
              "      <td>...</td>\n",
              "      <td>...</td>\n",
              "    </tr>\n",
              "    <tr>\n",
              "      <th>1455</th>\n",
              "      <td>7917</td>\n",
              "      <td>6</td>\n",
              "      <td>5</td>\n",
              "      <td>953</td>\n",
              "      <td>2</td>\n",
              "      <td>1</td>\n",
              "      <td>3</td>\n",
              "      <td>7</td>\n",
              "      <td>1</td>\n",
              "      <td>460</td>\n",
              "      <td>1</td>\n",
              "    </tr>\n",
              "    <tr>\n",
              "      <th>1456</th>\n",
              "      <td>13175</td>\n",
              "      <td>6</td>\n",
              "      <td>6</td>\n",
              "      <td>1542</td>\n",
              "      <td>2</td>\n",
              "      <td>0</td>\n",
              "      <td>3</td>\n",
              "      <td>7</td>\n",
              "      <td>2</td>\n",
              "      <td>500</td>\n",
              "      <td>1</td>\n",
              "    </tr>\n",
              "    <tr>\n",
              "      <th>1457</th>\n",
              "      <td>9042</td>\n",
              "      <td>7</td>\n",
              "      <td>9</td>\n",
              "      <td>1152</td>\n",
              "      <td>2</td>\n",
              "      <td>0</td>\n",
              "      <td>4</td>\n",
              "      <td>9</td>\n",
              "      <td>2</td>\n",
              "      <td>252</td>\n",
              "      <td>1</td>\n",
              "    </tr>\n",
              "    <tr>\n",
              "      <th>1458</th>\n",
              "      <td>9717</td>\n",
              "      <td>5</td>\n",
              "      <td>6</td>\n",
              "      <td>1078</td>\n",
              "      <td>1</td>\n",
              "      <td>0</td>\n",
              "      <td>2</td>\n",
              "      <td>5</td>\n",
              "      <td>0</td>\n",
              "      <td>240</td>\n",
              "      <td>0</td>\n",
              "    </tr>\n",
              "    <tr>\n",
              "      <th>1459</th>\n",
              "      <td>9937</td>\n",
              "      <td>5</td>\n",
              "      <td>6</td>\n",
              "      <td>1256</td>\n",
              "      <td>1</td>\n",
              "      <td>1</td>\n",
              "      <td>3</td>\n",
              "      <td>6</td>\n",
              "      <td>0</td>\n",
              "      <td>276</td>\n",
              "      <td>0</td>\n",
              "    </tr>\n",
              "  </tbody>\n",
              "</table>\n",
              "<p>1460 rows × 11 columns</p>\n",
              "</div>"
            ],
            "text/plain": [
              "      LotArea  OverallQual  ...  GarageArea  AboveMedianPrice\n",
              "0        8450            7  ...         548                 1\n",
              "1        9600            6  ...         460                 1\n",
              "2       11250            7  ...         608                 1\n",
              "3        9550            7  ...         642                 0\n",
              "4       14260            8  ...         836                 1\n",
              "...       ...          ...  ...         ...               ...\n",
              "1455     7917            6  ...         460                 1\n",
              "1456    13175            6  ...         500                 1\n",
              "1457     9042            7  ...         252                 1\n",
              "1458     9717            5  ...         240                 0\n",
              "1459     9937            5  ...         276                 0\n",
              "\n",
              "[1460 rows x 11 columns]"
            ]
          },
          "metadata": {},
          "execution_count": 3
        }
      ]
    },
    {
      "cell_type": "code",
      "metadata": {
        "id": "xDZAfOHrDJdT"
      },
      "source": [
        "dataset=df.values\n"
      ],
      "execution_count": 4,
      "outputs": []
    },
    {
      "cell_type": "code",
      "metadata": {
        "colab": {
          "base_uri": "https://localhost:8080/"
        },
        "id": "aK_0JxKoDPup",
        "outputId": "8d8b0fef-94fb-4803-e486-20c07be37e8b"
      },
      "source": [
        "dataset"
      ],
      "execution_count": 5,
      "outputs": [
        {
          "output_type": "execute_result",
          "data": {
            "text/plain": [
              "array([[ 8450,     7,     5, ...,     0,   548,     1],\n",
              "       [ 9600,     6,     8, ...,     1,   460,     1],\n",
              "       [11250,     7,     5, ...,     1,   608,     1],\n",
              "       ...,\n",
              "       [ 9042,     7,     9, ...,     2,   252,     1],\n",
              "       [ 9717,     5,     6, ...,     0,   240,     0],\n",
              "       [ 9937,     5,     6, ...,     0,   276,     0]])"
            ]
          },
          "metadata": {},
          "execution_count": 5
        }
      ]
    },
    {
      "cell_type": "code",
      "metadata": {
        "id": "Yb0iCFQ2DVE-"
      },
      "source": [
        "x = dataset[:,0:10]\n",
        "y = dataset[:,10]"
      ],
      "execution_count": 6,
      "outputs": []
    },
    {
      "cell_type": "code",
      "metadata": {
        "id": "W5UmGmKhDfvs"
      },
      "source": [
        "from sklearn import preprocessing"
      ],
      "execution_count": 7,
      "outputs": []
    },
    {
      "cell_type": "code",
      "metadata": {
        "id": "mEiGv_sJDj6Y"
      },
      "source": [
        "min_max_scaler = preprocessing.MinMaxScaler()\n",
        "X_scale = min_max_scaler.fit_transform(x)"
      ],
      "execution_count": 8,
      "outputs": []
    },
    {
      "cell_type": "code",
      "metadata": {
        "colab": {
          "base_uri": "https://localhost:8080/"
        },
        "id": "WW2TMN75DmyV",
        "outputId": "3ebff65b-98ef-438a-87c8-a223d96ebc63"
      },
      "source": [
        "X_scale"
      ],
      "execution_count": 9,
      "outputs": [
        {
          "output_type": "execute_result",
          "data": {
            "text/plain": [
              "array([[0.0334198 , 0.66666667, 0.5       , ..., 0.5       , 0.        ,\n",
              "        0.3864598 ],\n",
              "       [0.03879502, 0.55555556, 0.875     , ..., 0.33333333, 0.33333333,\n",
              "        0.32440056],\n",
              "       [0.04650728, 0.66666667, 0.5       , ..., 0.33333333, 0.33333333,\n",
              "        0.42877292],\n",
              "       ...,\n",
              "       [0.03618687, 0.66666667, 1.        , ..., 0.58333333, 0.66666667,\n",
              "        0.17771509],\n",
              "       [0.03934189, 0.44444444, 0.625     , ..., 0.25      , 0.        ,\n",
              "        0.16925247],\n",
              "       [0.04037019, 0.44444444, 0.625     , ..., 0.33333333, 0.        ,\n",
              "        0.19464034]])"
            ]
          },
          "metadata": {},
          "execution_count": 9
        }
      ]
    },
    {
      "cell_type": "code",
      "metadata": {
        "id": "M2zaQTA_DqEI"
      },
      "source": [
        "from sklearn.model_selection import train_test_split"
      ],
      "execution_count": 10,
      "outputs": []
    },
    {
      "cell_type": "code",
      "metadata": {
        "id": "1H_H5x5NDtyr"
      },
      "source": [
        "X_train, X_val_and_test, Y_train, Y_val_and_test = train_test_split(X_scale, y, test_size=0.3, random_state=0)"
      ],
      "execution_count": 11,
      "outputs": []
    },
    {
      "cell_type": "code",
      "metadata": {
        "id": "_RYOSYLlDxK_"
      },
      "source": [
        "X_val, X_test, Y_val, Y_test = train_test_split(X_val_and_test, Y_val_and_test, test_size=0.3, random_state=0)"
      ],
      "execution_count": 12,
      "outputs": []
    },
    {
      "cell_type": "code",
      "metadata": {
        "colab": {
          "base_uri": "https://localhost:8080/"
        },
        "id": "FCoWBA1xD0J6",
        "outputId": "d3bc8695-2b61-4483-a14a-5b61e13e89a1"
      },
      "source": [
        "print(X_train.shape, X_val.shape, X_test.shape, Y_train.shape, Y_val.shape, Y_test.shape)"
      ],
      "execution_count": 13,
      "outputs": [
        {
          "output_type": "stream",
          "name": "stdout",
          "text": [
            "(1022, 10) (306, 10) (132, 10) (1022,) (306,) (132,)\n"
          ]
        }
      ]
    },
    {
      "cell_type": "code",
      "metadata": {
        "id": "6otUgOe6D3zi"
      },
      "source": [
        "from keras.models import Sequential\n",
        "from keras.layers import Dense"
      ],
      "execution_count": 14,
      "outputs": []
    },
    {
      "cell_type": "code",
      "metadata": {
        "colab": {
          "base_uri": "https://localhost:8080/"
        },
        "id": "zDNGTesHD7lb",
        "outputId": "baff4de6-0b1b-47e0-8c2d-b900e6d8ed46"
      },
      "source": [
        "model = Sequential([\n",
        "Dense(32, activation='relu', input_shape=(10,)),\n",
        "Dense(32, activation='relu'),\n",
        "Dense(1, activation='sigmoid'),\n",
        "])\n",
        "\n",
        "model.compile(optimizer='sgd',\n",
        "\n",
        "loss='binary_crossentropy',\n",
        "metrics=['accuracy'])\n",
        "\n",
        "hist = model.fit(X_train, Y_train,\n",
        "batch_size=32, epochs=100,\n",
        "validation_data=(X_val, Y_val))"
      ],
      "execution_count": 15,
      "outputs": [
        {
          "output_type": "stream",
          "name": "stdout",
          "text": [
            "Epoch 1/100\n",
            "32/32 [==============================] - 1s 8ms/step - loss: 0.6984 - accuracy: 0.4442 - val_loss: 0.6965 - val_accuracy: 0.4248\n",
            "Epoch 2/100\n",
            "32/32 [==============================] - 0s 2ms/step - loss: 0.6955 - accuracy: 0.4755 - val_loss: 0.6931 - val_accuracy: 0.5261\n",
            "Epoch 3/100\n",
            "32/32 [==============================] - 0s 2ms/step - loss: 0.6927 - accuracy: 0.5421 - val_loss: 0.6902 - val_accuracy: 0.5882\n",
            "Epoch 4/100\n",
            "32/32 [==============================] - 0s 2ms/step - loss: 0.6904 - accuracy: 0.5519 - val_loss: 0.6876 - val_accuracy: 0.5948\n",
            "Epoch 5/100\n",
            "32/32 [==============================] - 0s 2ms/step - loss: 0.6881 - accuracy: 0.5616 - val_loss: 0.6853 - val_accuracy: 0.6111\n",
            "Epoch 6/100\n",
            "32/32 [==============================] - 0s 2ms/step - loss: 0.6861 - accuracy: 0.5900 - val_loss: 0.6830 - val_accuracy: 0.6144\n",
            "Epoch 7/100\n",
            "32/32 [==============================] - 0s 2ms/step - loss: 0.6841 - accuracy: 0.5910 - val_loss: 0.6809 - val_accuracy: 0.6307\n",
            "Epoch 8/100\n",
            "32/32 [==============================] - 0s 2ms/step - loss: 0.6822 - accuracy: 0.6096 - val_loss: 0.6787 - val_accuracy: 0.6569\n",
            "Epoch 9/100\n",
            "32/32 [==============================] - 0s 2ms/step - loss: 0.6801 - accuracy: 0.6849 - val_loss: 0.6763 - val_accuracy: 0.6928\n",
            "Epoch 10/100\n",
            "32/32 [==============================] - 0s 2ms/step - loss: 0.6777 - accuracy: 0.7162 - val_loss: 0.6737 - val_accuracy: 0.7288\n",
            "Epoch 11/100\n",
            "32/32 [==============================] - 0s 2ms/step - loss: 0.6753 - accuracy: 0.7290 - val_loss: 0.6712 - val_accuracy: 0.7810\n",
            "Epoch 12/100\n",
            "32/32 [==============================] - 0s 2ms/step - loss: 0.6729 - accuracy: 0.7495 - val_loss: 0.6686 - val_accuracy: 0.7908\n",
            "Epoch 13/100\n",
            "32/32 [==============================] - 0s 2ms/step - loss: 0.6704 - accuracy: 0.7583 - val_loss: 0.6658 - val_accuracy: 0.7908\n",
            "Epoch 14/100\n",
            "32/32 [==============================] - 0s 3ms/step - loss: 0.6676 - accuracy: 0.7524 - val_loss: 0.6626 - val_accuracy: 0.7745\n",
            "Epoch 15/100\n",
            "32/32 [==============================] - 0s 3ms/step - loss: 0.6644 - accuracy: 0.7515 - val_loss: 0.6594 - val_accuracy: 0.7680\n",
            "Epoch 16/100\n",
            "32/32 [==============================] - 0s 2ms/step - loss: 0.6615 - accuracy: 0.7593 - val_loss: 0.6563 - val_accuracy: 0.7614\n",
            "Epoch 17/100\n",
            "32/32 [==============================] - 0s 2ms/step - loss: 0.6585 - accuracy: 0.7642 - val_loss: 0.6533 - val_accuracy: 0.7614\n",
            "Epoch 18/100\n",
            "32/32 [==============================] - 0s 2ms/step - loss: 0.6556 - accuracy: 0.7613 - val_loss: 0.6502 - val_accuracy: 0.7614\n",
            "Epoch 19/100\n",
            "32/32 [==============================] - 0s 3ms/step - loss: 0.6528 - accuracy: 0.7681 - val_loss: 0.6470 - val_accuracy: 0.7647\n",
            "Epoch 20/100\n",
            "32/32 [==============================] - 0s 2ms/step - loss: 0.6498 - accuracy: 0.7671 - val_loss: 0.6437 - val_accuracy: 0.7680\n",
            "Epoch 21/100\n",
            "32/32 [==============================] - 0s 2ms/step - loss: 0.6467 - accuracy: 0.7701 - val_loss: 0.6402 - val_accuracy: 0.7680\n",
            "Epoch 22/100\n",
            "32/32 [==============================] - 0s 2ms/step - loss: 0.6434 - accuracy: 0.7701 - val_loss: 0.6367 - val_accuracy: 0.7745\n",
            "Epoch 23/100\n",
            "32/32 [==============================] - 0s 2ms/step - loss: 0.6400 - accuracy: 0.7710 - val_loss: 0.6330 - val_accuracy: 0.7810\n",
            "Epoch 24/100\n",
            "32/32 [==============================] - 0s 2ms/step - loss: 0.6364 - accuracy: 0.7740 - val_loss: 0.6289 - val_accuracy: 0.7778\n",
            "Epoch 25/100\n",
            "32/32 [==============================] - 0s 2ms/step - loss: 0.6325 - accuracy: 0.7750 - val_loss: 0.6249 - val_accuracy: 0.7778\n",
            "Epoch 26/100\n",
            "32/32 [==============================] - 0s 2ms/step - loss: 0.6285 - accuracy: 0.7789 - val_loss: 0.6205 - val_accuracy: 0.7778\n",
            "Epoch 27/100\n",
            "32/32 [==============================] - 0s 3ms/step - loss: 0.6243 - accuracy: 0.7808 - val_loss: 0.6155 - val_accuracy: 0.7843\n",
            "Epoch 28/100\n",
            "32/32 [==============================] - 0s 2ms/step - loss: 0.6200 - accuracy: 0.7789 - val_loss: 0.6106 - val_accuracy: 0.7843\n",
            "Epoch 29/100\n",
            "32/32 [==============================] - 0s 3ms/step - loss: 0.6154 - accuracy: 0.7847 - val_loss: 0.6056 - val_accuracy: 0.7843\n",
            "Epoch 30/100\n",
            "32/32 [==============================] - 0s 3ms/step - loss: 0.6105 - accuracy: 0.7808 - val_loss: 0.6002 - val_accuracy: 0.7843\n",
            "Epoch 31/100\n",
            "32/32 [==============================] - 0s 2ms/step - loss: 0.6054 - accuracy: 0.7857 - val_loss: 0.5946 - val_accuracy: 0.7843\n",
            "Epoch 32/100\n",
            "32/32 [==============================] - 0s 2ms/step - loss: 0.6001 - accuracy: 0.7867 - val_loss: 0.5888 - val_accuracy: 0.7908\n",
            "Epoch 33/100\n",
            "32/32 [==============================] - 0s 2ms/step - loss: 0.5946 - accuracy: 0.7877 - val_loss: 0.5826 - val_accuracy: 0.7908\n",
            "Epoch 34/100\n",
            "32/32 [==============================] - 0s 2ms/step - loss: 0.5888 - accuracy: 0.7867 - val_loss: 0.5768 - val_accuracy: 0.7843\n",
            "Epoch 35/100\n",
            "32/32 [==============================] - 0s 3ms/step - loss: 0.5831 - accuracy: 0.7926 - val_loss: 0.5704 - val_accuracy: 0.7876\n",
            "Epoch 36/100\n",
            "32/32 [==============================] - 0s 2ms/step - loss: 0.5767 - accuracy: 0.7945 - val_loss: 0.5641 - val_accuracy: 0.7843\n",
            "Epoch 37/100\n",
            "32/32 [==============================] - 0s 2ms/step - loss: 0.5705 - accuracy: 0.7906 - val_loss: 0.5569 - val_accuracy: 0.7876\n",
            "Epoch 38/100\n",
            "32/32 [==============================] - 0s 3ms/step - loss: 0.5640 - accuracy: 0.7965 - val_loss: 0.5498 - val_accuracy: 0.7941\n",
            "Epoch 39/100\n",
            "32/32 [==============================] - 0s 2ms/step - loss: 0.5572 - accuracy: 0.7965 - val_loss: 0.5428 - val_accuracy: 0.7974\n",
            "Epoch 40/100\n",
            "32/32 [==============================] - 0s 3ms/step - loss: 0.5505 - accuracy: 0.7994 - val_loss: 0.5353 - val_accuracy: 0.8072\n",
            "Epoch 41/100\n",
            "32/32 [==============================] - 0s 2ms/step - loss: 0.5435 - accuracy: 0.8043 - val_loss: 0.5276 - val_accuracy: 0.8105\n",
            "Epoch 42/100\n",
            "32/32 [==============================] - 0s 2ms/step - loss: 0.5363 - accuracy: 0.8043 - val_loss: 0.5207 - val_accuracy: 0.8137\n",
            "Epoch 43/100\n",
            "32/32 [==============================] - 0s 2ms/step - loss: 0.5294 - accuracy: 0.8053 - val_loss: 0.5129 - val_accuracy: 0.8203\n",
            "Epoch 44/100\n",
            "32/32 [==============================] - 0s 2ms/step - loss: 0.5220 - accuracy: 0.8082 - val_loss: 0.5050 - val_accuracy: 0.8235\n",
            "Epoch 45/100\n",
            "32/32 [==============================] - 0s 3ms/step - loss: 0.5150 - accuracy: 0.8072 - val_loss: 0.4977 - val_accuracy: 0.8268\n",
            "Epoch 46/100\n",
            "32/32 [==============================] - 0s 2ms/step - loss: 0.5074 - accuracy: 0.8151 - val_loss: 0.4896 - val_accuracy: 0.8301\n",
            "Epoch 47/100\n",
            "32/32 [==============================] - 0s 3ms/step - loss: 0.4999 - accuracy: 0.8170 - val_loss: 0.4826 - val_accuracy: 0.8301\n",
            "Epoch 48/100\n",
            "32/32 [==============================] - 0s 2ms/step - loss: 0.4931 - accuracy: 0.8180 - val_loss: 0.4744 - val_accuracy: 0.8333\n",
            "Epoch 49/100\n",
            "32/32 [==============================] - 0s 2ms/step - loss: 0.4857 - accuracy: 0.8219 - val_loss: 0.4659 - val_accuracy: 0.8464\n",
            "Epoch 50/100\n",
            "32/32 [==============================] - 0s 2ms/step - loss: 0.4787 - accuracy: 0.8229 - val_loss: 0.4590 - val_accuracy: 0.8399\n",
            "Epoch 51/100\n",
            "32/32 [==============================] - 0s 3ms/step - loss: 0.4712 - accuracy: 0.8268 - val_loss: 0.4519 - val_accuracy: 0.8399\n",
            "Epoch 52/100\n",
            "32/32 [==============================] - 0s 2ms/step - loss: 0.4645 - accuracy: 0.8297 - val_loss: 0.4439 - val_accuracy: 0.8464\n",
            "Epoch 53/100\n",
            "32/32 [==============================] - 0s 3ms/step - loss: 0.4575 - accuracy: 0.8307 - val_loss: 0.4368 - val_accuracy: 0.8529\n",
            "Epoch 54/100\n",
            "32/32 [==============================] - 0s 3ms/step - loss: 0.4506 - accuracy: 0.8317 - val_loss: 0.4299 - val_accuracy: 0.8562\n",
            "Epoch 55/100\n",
            "32/32 [==============================] - 0s 2ms/step - loss: 0.4442 - accuracy: 0.8327 - val_loss: 0.4229 - val_accuracy: 0.8562\n",
            "Epoch 56/100\n",
            "32/32 [==============================] - 0s 2ms/step - loss: 0.4376 - accuracy: 0.8317 - val_loss: 0.4163 - val_accuracy: 0.8595\n",
            "Epoch 57/100\n",
            "32/32 [==============================] - 0s 2ms/step - loss: 0.4315 - accuracy: 0.8366 - val_loss: 0.4094 - val_accuracy: 0.8595\n",
            "Epoch 58/100\n",
            "32/32 [==============================] - 0s 2ms/step - loss: 0.4252 - accuracy: 0.8395 - val_loss: 0.4037 - val_accuracy: 0.8562\n",
            "Epoch 59/100\n",
            "32/32 [==============================] - 0s 2ms/step - loss: 0.4193 - accuracy: 0.8395 - val_loss: 0.3967 - val_accuracy: 0.8627\n",
            "Epoch 60/100\n",
            "32/32 [==============================] - 0s 2ms/step - loss: 0.4135 - accuracy: 0.8405 - val_loss: 0.3901 - val_accuracy: 0.8693\n",
            "Epoch 61/100\n",
            "32/32 [==============================] - 0s 3ms/step - loss: 0.4074 - accuracy: 0.8444 - val_loss: 0.3859 - val_accuracy: 0.8562\n",
            "Epoch 62/100\n",
            "32/32 [==============================] - 0s 2ms/step - loss: 0.4028 - accuracy: 0.8425 - val_loss: 0.3782 - val_accuracy: 0.8758\n",
            "Epoch 63/100\n",
            "32/32 [==============================] - 0s 3ms/step - loss: 0.3973 - accuracy: 0.8464 - val_loss: 0.3733 - val_accuracy: 0.8660\n",
            "Epoch 64/100\n",
            "32/32 [==============================] - 0s 3ms/step - loss: 0.3923 - accuracy: 0.8474 - val_loss: 0.3678 - val_accuracy: 0.8693\n",
            "Epoch 65/100\n",
            "32/32 [==============================] - 0s 2ms/step - loss: 0.3872 - accuracy: 0.8474 - val_loss: 0.3630 - val_accuracy: 0.8693\n",
            "Epoch 66/100\n",
            "32/32 [==============================] - 0s 3ms/step - loss: 0.3831 - accuracy: 0.8532 - val_loss: 0.3582 - val_accuracy: 0.8725\n",
            "Epoch 67/100\n",
            "32/32 [==============================] - 0s 2ms/step - loss: 0.3783 - accuracy: 0.8503 - val_loss: 0.3520 - val_accuracy: 0.8791\n",
            "Epoch 68/100\n",
            "32/32 [==============================] - 0s 2ms/step - loss: 0.3742 - accuracy: 0.8571 - val_loss: 0.3485 - val_accuracy: 0.8791\n",
            "Epoch 69/100\n",
            "32/32 [==============================] - 0s 3ms/step - loss: 0.3698 - accuracy: 0.8571 - val_loss: 0.3445 - val_accuracy: 0.8824\n",
            "Epoch 70/100\n",
            "32/32 [==============================] - 0s 3ms/step - loss: 0.3657 - accuracy: 0.8562 - val_loss: 0.3413 - val_accuracy: 0.8725\n",
            "Epoch 71/100\n",
            "32/32 [==============================] - 0s 3ms/step - loss: 0.3621 - accuracy: 0.8532 - val_loss: 0.3369 - val_accuracy: 0.8791\n",
            "Epoch 72/100\n",
            "32/32 [==============================] - 0s 3ms/step - loss: 0.3586 - accuracy: 0.8581 - val_loss: 0.3306 - val_accuracy: 0.8922\n",
            "Epoch 73/100\n",
            "32/32 [==============================] - 0s 2ms/step - loss: 0.3554 - accuracy: 0.8630 - val_loss: 0.3271 - val_accuracy: 0.8922\n",
            "Epoch 74/100\n",
            "32/32 [==============================] - 0s 3ms/step - loss: 0.3520 - accuracy: 0.8630 - val_loss: 0.3243 - val_accuracy: 0.8791\n",
            "Epoch 75/100\n",
            "32/32 [==============================] - 0s 2ms/step - loss: 0.3484 - accuracy: 0.8611 - val_loss: 0.3208 - val_accuracy: 0.8922\n",
            "Epoch 76/100\n",
            "32/32 [==============================] - 0s 3ms/step - loss: 0.3454 - accuracy: 0.8630 - val_loss: 0.3161 - val_accuracy: 0.8954\n",
            "Epoch 77/100\n",
            "32/32 [==============================] - 0s 2ms/step - loss: 0.3434 - accuracy: 0.8650 - val_loss: 0.3135 - val_accuracy: 0.8987\n",
            "Epoch 78/100\n",
            "32/32 [==============================] - 0s 2ms/step - loss: 0.3396 - accuracy: 0.8650 - val_loss: 0.3105 - val_accuracy: 0.8922\n",
            "Epoch 79/100\n",
            "32/32 [==============================] - 0s 2ms/step - loss: 0.3369 - accuracy: 0.8640 - val_loss: 0.3095 - val_accuracy: 0.8889\n",
            "Epoch 80/100\n",
            "32/32 [==============================] - 0s 2ms/step - loss: 0.3344 - accuracy: 0.8601 - val_loss: 0.3041 - val_accuracy: 0.8922\n",
            "Epoch 81/100\n",
            "32/32 [==============================] - 0s 2ms/step - loss: 0.3323 - accuracy: 0.8650 - val_loss: 0.3014 - val_accuracy: 0.8922\n",
            "Epoch 82/100\n",
            "32/32 [==============================] - 0s 2ms/step - loss: 0.3300 - accuracy: 0.8630 - val_loss: 0.2993 - val_accuracy: 0.8922\n",
            "Epoch 83/100\n",
            "32/32 [==============================] - 0s 3ms/step - loss: 0.3270 - accuracy: 0.8669 - val_loss: 0.2955 - val_accuracy: 0.8954\n",
            "Epoch 84/100\n",
            "32/32 [==============================] - 0s 2ms/step - loss: 0.3260 - accuracy: 0.8650 - val_loss: 0.2940 - val_accuracy: 0.8954\n",
            "Epoch 85/100\n",
            "32/32 [==============================] - 0s 2ms/step - loss: 0.3233 - accuracy: 0.8699 - val_loss: 0.2916 - val_accuracy: 0.8954\n",
            "Epoch 86/100\n",
            "32/32 [==============================] - 0s 2ms/step - loss: 0.3217 - accuracy: 0.8669 - val_loss: 0.2924 - val_accuracy: 0.8922\n",
            "Epoch 87/100\n",
            "32/32 [==============================] - 0s 3ms/step - loss: 0.3196 - accuracy: 0.8669 - val_loss: 0.2884 - val_accuracy: 0.8954\n",
            "Epoch 88/100\n",
            "32/32 [==============================] - 0s 2ms/step - loss: 0.3181 - accuracy: 0.8728 - val_loss: 0.2856 - val_accuracy: 0.8987\n",
            "Epoch 89/100\n",
            "32/32 [==============================] - 0s 3ms/step - loss: 0.3160 - accuracy: 0.8669 - val_loss: 0.2835 - val_accuracy: 0.8954\n",
            "Epoch 90/100\n",
            "32/32 [==============================] - 0s 3ms/step - loss: 0.3145 - accuracy: 0.8699 - val_loss: 0.2823 - val_accuracy: 0.8922\n",
            "Epoch 91/100\n",
            "32/32 [==============================] - 0s 3ms/step - loss: 0.3136 - accuracy: 0.8718 - val_loss: 0.2810 - val_accuracy: 0.8922\n",
            "Epoch 92/100\n",
            "32/32 [==============================] - 0s 2ms/step - loss: 0.3113 - accuracy: 0.8738 - val_loss: 0.2776 - val_accuracy: 0.8922\n",
            "Epoch 93/100\n",
            "32/32 [==============================] - 0s 3ms/step - loss: 0.3101 - accuracy: 0.8718 - val_loss: 0.2765 - val_accuracy: 0.8922\n",
            "Epoch 94/100\n",
            "32/32 [==============================] - 0s 2ms/step - loss: 0.3085 - accuracy: 0.8718 - val_loss: 0.2750 - val_accuracy: 0.8922\n",
            "Epoch 95/100\n",
            "32/32 [==============================] - 0s 3ms/step - loss: 0.3078 - accuracy: 0.8767 - val_loss: 0.2734 - val_accuracy: 0.8922\n",
            "Epoch 96/100\n",
            "32/32 [==============================] - 0s 3ms/step - loss: 0.3059 - accuracy: 0.8748 - val_loss: 0.2710 - val_accuracy: 0.8954\n",
            "Epoch 97/100\n",
            "32/32 [==============================] - 0s 2ms/step - loss: 0.3046 - accuracy: 0.8728 - val_loss: 0.2692 - val_accuracy: 0.9020\n",
            "Epoch 98/100\n",
            "32/32 [==============================] - 0s 2ms/step - loss: 0.3039 - accuracy: 0.8738 - val_loss: 0.2692 - val_accuracy: 0.8954\n",
            "Epoch 99/100\n",
            "32/32 [==============================] - 0s 2ms/step - loss: 0.3020 - accuracy: 0.8748 - val_loss: 0.2687 - val_accuracy: 0.8987\n",
            "Epoch 100/100\n",
            "32/32 [==============================] - 0s 2ms/step - loss: 0.3013 - accuracy: 0.8748 - val_loss: 0.2673 - val_accuracy: 0.9020\n"
          ]
        }
      ]
    },
    {
      "cell_type": "code",
      "metadata": {
        "colab": {
          "base_uri": "https://localhost:8080/",
          "height": 295
        },
        "id": "LYKgNdDyEDWJ",
        "outputId": "526f8523-0863-46cf-9b6c-da061e71da08"
      },
      "source": [
        "import matplotlib.pyplot as plt\n",
        "\n",
        "plt.plot(hist.history['loss'])\n",
        "plt.plot(hist.history['val_loss'])\n",
        "plt.title('Model loss')\n",
        "plt.ylabel('Loss')\n",
        "plt.xlabel('Epoch')\n",
        "plt.legend(['Train', 'Val'], loc='upper right')\n",
        "plt.show()"
      ],
      "execution_count": 16,
      "outputs": [
        {
          "output_type": "display_data",
          "data": {
            "image/png": "[encoded data removed]",
            "text/plain": [
              "<Figure size 432x288 with 1 Axes>"
            ]
          },
          "metadata": {
            "needs_background": "light"
          }
        }
      ]
    },
    {
      "cell_type": "code",
      "metadata": {
        "colab": {
          "base_uri": "https://localhost:8080/",
          "height": 295
        },
        "id": "7GWrE9v2EGYH",
        "outputId": "b06d2e2f-ae49-415c-c216-dd11e37c745a"
      },
      "source": [
        "import matplotlib.pyplot as plt\n",
        "plt.plot(hist.history['accuracy'])\n",
        "plt.plot(hist.history['val_accuracy'])\n",
        "plt.title('Model accuracy')\n",
        "plt.ylabel('Accuracy')\n",
        "plt.xlabel('Epoch')\n",
        "plt.legend(['Train', 'Val'], loc='lower right')\n",
        "plt.show()"
      ],
      "execution_count": 17,
      "outputs": [
        {
          "output_type": "display_data",
          "data": {
            "image/png": "[encoded data removed]",
            "text/plain": [
              "<Figure size 432x288 with 1 Axes>"
            ]
          },
          "metadata": {
            "needs_background": "light"
          }
        }
      ]
    },
    {
      "cell_type": "code",
      "metadata": {
        "id": "WiOH_NfmEJxt"
      },
      "source": [
        "model_2 = Sequential([\n",
        "Dense(1000, activation='relu', input_shape=(10,)),\n",
        "Dense(1000, activation='relu'),\n",
        "Dense(1000, activation='relu'),\n",
        "Dense(1000, activation='relu'),\n",
        "Dense(1, activation='sigmoid'),\n",
        "])"
      ],
      "execution_count": 18,
      "outputs": []
    },
    {
      "cell_type": "code",
      "metadata": {
        "id": "59_LA0rZEMtX"
      },
      "source": [
        "model_2.compile(optimizer='adam',\n",
        "loss='binary_crossentropy',\n",
        "metrics=['accuracy'])"
      ],
      "execution_count": 19,
      "outputs": []
    },
    {
      "cell_type": "code",
      "metadata": {
        "colab": {
          "base_uri": "https://localhost:8080/"
        },
        "id": "za9zhyxHEPRj",
        "outputId": "3ed49dcd-e405-4b4b-a9e4-2b8947cfefd4"
      },
      "source": [
        "hist_2 = model_2.fit(X_train, Y_train,\n",
        "batch_size=32, epochs=100,\n",
        "validation_data=(X_val, Y_val))"
      ],
      "execution_count": 20,
      "outputs": [
        {
          "output_type": "stream",
          "name": "stdout",
          "text": [
            "Epoch 1/100\n",
            "32/32 [==============================] - 2s 40ms/step - loss: 0.4825 - accuracy: 0.7808 - val_loss: 0.3753 - val_accuracy: 0.8301\n",
            "Epoch 2/100\n",
            "32/32 [==============================] - 1s 38ms/step - loss: 0.3759 - accuracy: 0.8366 - val_loss: 0.2739 - val_accuracy: 0.8954\n",
            "Epoch 3/100\n",
            "32/32 [==============================] - 1s 39ms/step - loss: 0.3613 - accuracy: 0.8474 - val_loss: 0.2767 - val_accuracy: 0.8987\n",
            "Epoch 4/100\n",
            "32/32 [==============================] - 1s 35ms/step - loss: 0.2908 - accuracy: 0.8738 - val_loss: 0.2638 - val_accuracy: 0.9085\n",
            "Epoch 5/100\n",
            "32/32 [==============================] - 1s 35ms/step - loss: 0.2846 - accuracy: 0.8845 - val_loss: 0.2725 - val_accuracy: 0.8987\n",
            "Epoch 6/100\n",
            "32/32 [==============================] - 1s 36ms/step - loss: 0.2698 - accuracy: 0.8943 - val_loss: 0.2438 - val_accuracy: 0.9085\n",
            "Epoch 7/100\n",
            "32/32 [==============================] - 1s 36ms/step - loss: 0.2666 - accuracy: 0.8816 - val_loss: 0.2317 - val_accuracy: 0.9052\n",
            "Epoch 8/100\n",
            "32/32 [==============================] - 1s 36ms/step - loss: 0.2436 - accuracy: 0.8992 - val_loss: 0.2305 - val_accuracy: 0.8987\n",
            "Epoch 9/100\n",
            "32/32 [==============================] - 1s 44ms/step - loss: 0.2500 - accuracy: 0.8924 - val_loss: 0.2104 - val_accuracy: 0.9183\n",
            "Epoch 10/100\n",
            "32/32 [==============================] - 1s 44ms/step - loss: 0.2327 - accuracy: 0.8963 - val_loss: 0.3249 - val_accuracy: 0.8922\n",
            "Epoch 11/100\n",
            "32/32 [==============================] - 1s 44ms/step - loss: 0.2309 - accuracy: 0.8943 - val_loss: 0.2320 - val_accuracy: 0.9085\n",
            "Epoch 12/100\n",
            "32/32 [==============================] - 1s 40ms/step - loss: 0.2384 - accuracy: 0.8973 - val_loss: 0.2817 - val_accuracy: 0.8987\n",
            "Epoch 13/100\n",
            "32/32 [==============================] - 1s 40ms/step - loss: 0.2462 - accuracy: 0.8894 - val_loss: 0.2379 - val_accuracy: 0.9020\n",
            "Epoch 14/100\n",
            "32/32 [==============================] - 1s 37ms/step - loss: 0.2213 - accuracy: 0.9119 - val_loss: 0.2168 - val_accuracy: 0.9052\n",
            "Epoch 15/100\n",
            "32/32 [==============================] - 1s 36ms/step - loss: 0.2089 - accuracy: 0.9031 - val_loss: 0.2681 - val_accuracy: 0.8954\n",
            "Epoch 16/100\n",
            "32/32 [==============================] - 1s 42ms/step - loss: 0.2258 - accuracy: 0.8982 - val_loss: 0.2144 - val_accuracy: 0.9281\n",
            "Epoch 17/100\n",
            "32/32 [==============================] - 1s 40ms/step - loss: 0.2212 - accuracy: 0.8982 - val_loss: 0.2416 - val_accuracy: 0.9150\n",
            "Epoch 18/100\n",
            "32/32 [==============================] - 1s 44ms/step - loss: 0.2028 - accuracy: 0.9119 - val_loss: 0.2322 - val_accuracy: 0.9085\n",
            "Epoch 19/100\n",
            "32/32 [==============================] - 1s 41ms/step - loss: 0.2231 - accuracy: 0.9061 - val_loss: 0.2569 - val_accuracy: 0.8954\n",
            "Epoch 20/100\n",
            "32/32 [==============================] - 1s 35ms/step - loss: 0.2194 - accuracy: 0.9070 - val_loss: 0.2244 - val_accuracy: 0.9118\n",
            "Epoch 21/100\n",
            "32/32 [==============================] - 1s 36ms/step - loss: 0.2063 - accuracy: 0.9080 - val_loss: 0.2164 - val_accuracy: 0.9118\n",
            "Epoch 22/100\n",
            "32/32 [==============================] - 1s 35ms/step - loss: 0.2108 - accuracy: 0.9070 - val_loss: 0.2566 - val_accuracy: 0.9150\n",
            "Epoch 23/100\n",
            "32/32 [==============================] - 1s 41ms/step - loss: 0.1958 - accuracy: 0.9159 - val_loss: 0.2076 - val_accuracy: 0.9281\n",
            "Epoch 24/100\n",
            "32/32 [==============================] - 1s 42ms/step - loss: 0.1984 - accuracy: 0.9198 - val_loss: 0.2141 - val_accuracy: 0.9085\n",
            "Epoch 25/100\n",
            "32/32 [==============================] - 1s 35ms/step - loss: 0.1906 - accuracy: 0.9149 - val_loss: 0.2336 - val_accuracy: 0.9085\n",
            "Epoch 26/100\n",
            "32/32 [==============================] - 1s 39ms/step - loss: 0.1888 - accuracy: 0.9119 - val_loss: 0.2096 - val_accuracy: 0.9118\n",
            "Epoch 27/100\n",
            "32/32 [==============================] - 1s 44ms/step - loss: 0.2278 - accuracy: 0.9012 - val_loss: 0.2102 - val_accuracy: 0.9118\n",
            "Epoch 28/100\n",
            "32/32 [==============================] - 1s 36ms/step - loss: 0.2203 - accuracy: 0.9149 - val_loss: 0.2322 - val_accuracy: 0.9052\n",
            "Epoch 29/100\n",
            "32/32 [==============================] - 1s 35ms/step - loss: 0.2024 - accuracy: 0.9178 - val_loss: 0.2362 - val_accuracy: 0.9248\n",
            "Epoch 30/100\n",
            "32/32 [==============================] - 1s 36ms/step - loss: 0.2019 - accuracy: 0.9149 - val_loss: 0.2891 - val_accuracy: 0.9052\n",
            "Epoch 31/100\n",
            "32/32 [==============================] - 1s 39ms/step - loss: 0.2100 - accuracy: 0.9119 - val_loss: 0.2394 - val_accuracy: 0.9085\n",
            "Epoch 32/100\n",
            "32/32 [==============================] - 1s 39ms/step - loss: 0.2133 - accuracy: 0.9149 - val_loss: 0.2238 - val_accuracy: 0.9216\n",
            "Epoch 33/100\n",
            "32/32 [==============================] - 1s 37ms/step - loss: 0.1861 - accuracy: 0.9149 - val_loss: 0.2449 - val_accuracy: 0.9248\n",
            "Epoch 34/100\n",
            "32/32 [==============================] - 1s 36ms/step - loss: 0.1802 - accuracy: 0.9237 - val_loss: 0.2322 - val_accuracy: 0.9150\n",
            "Epoch 35/100\n",
            "32/32 [==============================] - 1s 42ms/step - loss: 0.1849 - accuracy: 0.9207 - val_loss: 0.2248 - val_accuracy: 0.9216\n",
            "Epoch 36/100\n",
            "32/32 [==============================] - 1s 36ms/step - loss: 0.1860 - accuracy: 0.9247 - val_loss: 0.2813 - val_accuracy: 0.9150\n",
            "Epoch 37/100\n",
            "32/32 [==============================] - 1s 41ms/step - loss: 0.1939 - accuracy: 0.9159 - val_loss: 0.2049 - val_accuracy: 0.9314\n",
            "Epoch 38/100\n",
            "32/32 [==============================] - 1s 44ms/step - loss: 0.1977 - accuracy: 0.9080 - val_loss: 0.2338 - val_accuracy: 0.9085\n",
            "Epoch 39/100\n",
            "32/32 [==============================] - 1s 43ms/step - loss: 0.1833 - accuracy: 0.9227 - val_loss: 0.2218 - val_accuracy: 0.9248\n",
            "Epoch 40/100\n",
            "32/32 [==============================] - 1s 39ms/step - loss: 0.1759 - accuracy: 0.9237 - val_loss: 0.2444 - val_accuracy: 0.9052\n",
            "Epoch 41/100\n",
            "32/32 [==============================] - 1s 35ms/step - loss: 0.1690 - accuracy: 0.9247 - val_loss: 0.2821 - val_accuracy: 0.8987\n",
            "Epoch 42/100\n",
            "32/32 [==============================] - 1s 35ms/step - loss: 0.1803 - accuracy: 0.9227 - val_loss: 0.2662 - val_accuracy: 0.9183\n",
            "Epoch 43/100\n",
            "32/32 [==============================] - 1s 44ms/step - loss: 0.1828 - accuracy: 0.9247 - val_loss: 0.2374 - val_accuracy: 0.9118\n",
            "Epoch 44/100\n",
            "32/32 [==============================] - 1s 43ms/step - loss: 0.1685 - accuracy: 0.9217 - val_loss: 0.2699 - val_accuracy: 0.9118\n",
            "Epoch 45/100\n",
            "32/32 [==============================] - 1s 38ms/step - loss: 0.1604 - accuracy: 0.9315 - val_loss: 0.2553 - val_accuracy: 0.9248\n",
            "Epoch 46/100\n",
            "32/32 [==============================] - 1s 35ms/step - loss: 0.1815 - accuracy: 0.9247 - val_loss: 0.2462 - val_accuracy: 0.9118\n",
            "Epoch 47/100\n",
            "32/32 [==============================] - 1s 36ms/step - loss: 0.1693 - accuracy: 0.9295 - val_loss: 0.2442 - val_accuracy: 0.9085\n",
            "Epoch 48/100\n",
            "32/32 [==============================] - 1s 36ms/step - loss: 0.1636 - accuracy: 0.9344 - val_loss: 0.2553 - val_accuracy: 0.9150\n",
            "Epoch 49/100\n",
            "32/32 [==============================] - 1s 39ms/step - loss: 0.1652 - accuracy: 0.9295 - val_loss: 0.2825 - val_accuracy: 0.9150\n",
            "Epoch 50/100\n",
            "32/32 [==============================] - 1s 45ms/step - loss: 0.1978 - accuracy: 0.9149 - val_loss: 0.2322 - val_accuracy: 0.9248\n",
            "Epoch 51/100\n",
            "32/32 [==============================] - 1s 43ms/step - loss: 0.1928 - accuracy: 0.9070 - val_loss: 0.3050 - val_accuracy: 0.8627\n",
            "Epoch 52/100\n",
            "32/32 [==============================] - 1s 44ms/step - loss: 0.1985 - accuracy: 0.9237 - val_loss: 0.2366 - val_accuracy: 0.9085\n",
            "Epoch 53/100\n",
            "32/32 [==============================] - 1s 44ms/step - loss: 0.1715 - accuracy: 0.9256 - val_loss: 0.2866 - val_accuracy: 0.9183\n",
            "Epoch 54/100\n",
            "32/32 [==============================] - 1s 37ms/step - loss: 0.1703 - accuracy: 0.9237 - val_loss: 0.2373 - val_accuracy: 0.9118\n",
            "Epoch 55/100\n",
            "32/32 [==============================] - 1s 38ms/step - loss: 0.1540 - accuracy: 0.9305 - val_loss: 0.2868 - val_accuracy: 0.9183\n",
            "Epoch 56/100\n",
            "32/32 [==============================] - 1s 38ms/step - loss: 0.1562 - accuracy: 0.9374 - val_loss: 0.2864 - val_accuracy: 0.9085\n",
            "Epoch 57/100\n",
            "32/32 [==============================] - 1s 35ms/step - loss: 0.1602 - accuracy: 0.9276 - val_loss: 0.2729 - val_accuracy: 0.9118\n",
            "Epoch 58/100\n",
            "32/32 [==============================] - 1s 36ms/step - loss: 0.1607 - accuracy: 0.9364 - val_loss: 0.2538 - val_accuracy: 0.9281\n",
            "Epoch 59/100\n",
            "32/32 [==============================] - 1s 36ms/step - loss: 0.1513 - accuracy: 0.9335 - val_loss: 0.2734 - val_accuracy: 0.9183\n",
            "Epoch 60/100\n",
            "32/32 [==============================] - 1s 36ms/step - loss: 0.1522 - accuracy: 0.9384 - val_loss: 0.3188 - val_accuracy: 0.9248\n",
            "Epoch 61/100\n",
            "32/32 [==============================] - 1s 37ms/step - loss: 0.1370 - accuracy: 0.9393 - val_loss: 0.3491 - val_accuracy: 0.9150\n",
            "Epoch 62/100\n",
            "32/32 [==============================] - 1s 38ms/step - loss: 0.1566 - accuracy: 0.9354 - val_loss: 0.3373 - val_accuracy: 0.9281\n",
            "Epoch 63/100\n",
            "32/32 [==============================] - 1s 36ms/step - loss: 0.1482 - accuracy: 0.9403 - val_loss: 0.3419 - val_accuracy: 0.9118\n",
            "Epoch 64/100\n",
            "32/32 [==============================] - 1s 37ms/step - loss: 0.1540 - accuracy: 0.9354 - val_loss: 0.3995 - val_accuracy: 0.8889\n",
            "Epoch 65/100\n",
            "32/32 [==============================] - 1s 37ms/step - loss: 0.1598 - accuracy: 0.9335 - val_loss: 0.3111 - val_accuracy: 0.9052\n",
            "Epoch 66/100\n",
            "32/32 [==============================] - 1s 36ms/step - loss: 0.1692 - accuracy: 0.9256 - val_loss: 0.2722 - val_accuracy: 0.9281\n",
            "Epoch 67/100\n",
            "32/32 [==============================] - 1s 42ms/step - loss: 0.1508 - accuracy: 0.9344 - val_loss: 0.3154 - val_accuracy: 0.8954\n",
            "Epoch 68/100\n",
            "32/32 [==============================] - 1s 36ms/step - loss: 0.1573 - accuracy: 0.9247 - val_loss: 0.2957 - val_accuracy: 0.9052\n",
            "Epoch 69/100\n",
            "32/32 [==============================] - 1s 41ms/step - loss: 0.1485 - accuracy: 0.9374 - val_loss: 0.2773 - val_accuracy: 0.9248\n",
            "Epoch 70/100\n",
            "32/32 [==============================] - 1s 43ms/step - loss: 0.1435 - accuracy: 0.9393 - val_loss: 0.3516 - val_accuracy: 0.9216\n",
            "Epoch 71/100\n",
            "32/32 [==============================] - 1s 45ms/step - loss: 0.1323 - accuracy: 0.9442 - val_loss: 0.2850 - val_accuracy: 0.9183\n",
            "Epoch 72/100\n",
            "32/32 [==============================] - 1s 44ms/step - loss: 0.1451 - accuracy: 0.9432 - val_loss: 0.4986 - val_accuracy: 0.8922\n",
            "Epoch 73/100\n",
            "32/32 [==============================] - 1s 38ms/step - loss: 0.2469 - accuracy: 0.8953 - val_loss: 0.3308 - val_accuracy: 0.8627\n",
            "Epoch 74/100\n",
            "32/32 [==============================] - 1s 37ms/step - loss: 0.1688 - accuracy: 0.9247 - val_loss: 0.3674 - val_accuracy: 0.8954\n",
            "Epoch 75/100\n",
            "32/32 [==============================] - 1s 36ms/step - loss: 0.1638 - accuracy: 0.9354 - val_loss: 0.2773 - val_accuracy: 0.9248\n",
            "Epoch 76/100\n",
            "32/32 [==============================] - 1s 36ms/step - loss: 0.1353 - accuracy: 0.9413 - val_loss: 0.3010 - val_accuracy: 0.9216\n",
            "Epoch 77/100\n",
            "32/32 [==============================] - 1s 37ms/step - loss: 0.1356 - accuracy: 0.9364 - val_loss: 0.3737 - val_accuracy: 0.9150\n",
            "Epoch 78/100\n",
            "32/32 [==============================] - 1s 36ms/step - loss: 0.1751 - accuracy: 0.9247 - val_loss: 0.3175 - val_accuracy: 0.9183\n",
            "Epoch 79/100\n",
            "32/32 [==============================] - 1s 43ms/step - loss: 0.1393 - accuracy: 0.9364 - val_loss: 0.2938 - val_accuracy: 0.9183\n",
            "Epoch 80/100\n",
            "32/32 [==============================] - 1s 38ms/step - loss: 0.1212 - accuracy: 0.9472 - val_loss: 0.3332 - val_accuracy: 0.9216\n",
            "Epoch 81/100\n",
            "32/32 [==============================] - 1s 45ms/step - loss: 0.1185 - accuracy: 0.9452 - val_loss: 0.3816 - val_accuracy: 0.9183\n",
            "Epoch 82/100\n",
            "32/32 [==============================] - 1s 44ms/step - loss: 0.1201 - accuracy: 0.9521 - val_loss: 0.3181 - val_accuracy: 0.9248\n",
            "Epoch 83/100\n",
            "32/32 [==============================] - 1s 42ms/step - loss: 0.1249 - accuracy: 0.9501 - val_loss: 0.3407 - val_accuracy: 0.9183\n",
            "Epoch 84/100\n",
            "32/32 [==============================] - 1s 37ms/step - loss: 0.1322 - accuracy: 0.9393 - val_loss: 0.3301 - val_accuracy: 0.9183\n",
            "Epoch 85/100\n",
            "32/32 [==============================] - 1s 42ms/step - loss: 0.1211 - accuracy: 0.9511 - val_loss: 0.3132 - val_accuracy: 0.9150\n",
            "Epoch 86/100\n",
            "32/32 [==============================] - 1s 45ms/step - loss: 0.1280 - accuracy: 0.9452 - val_loss: 0.2862 - val_accuracy: 0.9248\n",
            "Epoch 87/100\n",
            "32/32 [==============================] - 1s 45ms/step - loss: 0.1359 - accuracy: 0.9462 - val_loss: 0.3311 - val_accuracy: 0.9150\n",
            "Epoch 88/100\n",
            "32/32 [==============================] - 1s 45ms/step - loss: 0.1267 - accuracy: 0.9511 - val_loss: 0.2878 - val_accuracy: 0.9183\n",
            "Epoch 89/100\n",
            "32/32 [==============================] - 1s 38ms/step - loss: 0.1379 - accuracy: 0.9432 - val_loss: 0.3476 - val_accuracy: 0.9183\n",
            "Epoch 90/100\n",
            "32/32 [==============================] - 1s 40ms/step - loss: 0.1259 - accuracy: 0.9491 - val_loss: 0.3731 - val_accuracy: 0.8987\n",
            "Epoch 91/100\n",
            "32/32 [==============================] - 1s 36ms/step - loss: 0.1082 - accuracy: 0.9560 - val_loss: 0.3806 - val_accuracy: 0.9085\n",
            "Epoch 92/100\n",
            "32/32 [==============================] - 1s 44ms/step - loss: 0.1012 - accuracy: 0.9569 - val_loss: 0.4609 - val_accuracy: 0.9183\n",
            "Epoch 93/100\n",
            "32/32 [==============================] - 1s 41ms/step - loss: 0.1217 - accuracy: 0.9462 - val_loss: 0.3901 - val_accuracy: 0.8954\n",
            "Epoch 94/100\n",
            "32/32 [==============================] - 1s 37ms/step - loss: 0.1091 - accuracy: 0.9550 - val_loss: 0.3647 - val_accuracy: 0.9052\n",
            "Epoch 95/100\n",
            "32/32 [==============================] - 1s 41ms/step - loss: 0.1077 - accuracy: 0.9589 - val_loss: 0.4070 - val_accuracy: 0.9150\n",
            "Epoch 96/100\n",
            "32/32 [==============================] - 1s 43ms/step - loss: 0.1254 - accuracy: 0.9491 - val_loss: 0.3617 - val_accuracy: 0.9020\n",
            "Epoch 97/100\n",
            "32/32 [==============================] - 1s 41ms/step - loss: 0.1244 - accuracy: 0.9491 - val_loss: 0.3319 - val_accuracy: 0.9085\n",
            "Epoch 98/100\n",
            "32/32 [==============================] - 1s 40ms/step - loss: 0.1580 - accuracy: 0.9295 - val_loss: 0.3797 - val_accuracy: 0.8954\n",
            "Epoch 99/100\n",
            "32/32 [==============================] - 1s 44ms/step - loss: 0.1599 - accuracy: 0.9374 - val_loss: 0.3148 - val_accuracy: 0.8758\n",
            "Epoch 100/100\n",
            "32/32 [==============================] - 1s 44ms/step - loss: 0.1561 - accuracy: 0.9227 - val_loss: 0.3113 - val_accuracy: 0.9118\n"
          ]
        }
      ]
    },
    {
      "cell_type": "code",
      "metadata": {
        "colab": {
          "base_uri": "https://localhost:8080/",
          "height": 295
        },
        "id": "AFdcToH6Fifv",
        "outputId": "543f7338-e91b-4568-ada9-75c4ea8666bf"
      },
      "source": [
        "plt.plot(hist_2.history['loss'])\n",
        "plt.plot(hist_2.history['val_loss'])\n",
        "plt.title('Model loss')\n",
        "plt.ylabel('Loss')\n",
        "plt.xlabel('Epoch')\n",
        "plt.legend(['Train', 'Val'], loc='upper right')\n",
        "plt.show()"
      ],
      "execution_count": 21,
      "outputs": [
        {
          "output_type": "display_data",
          "data": {
            "image/png": "[encoded data removed]",
            "text/plain": [
              "<Figure size 432x288 with 1 Axes>"
            ]
          },
          "metadata": {
            "needs_background": "light"
          }
        }
      ]
    },
    {
      "cell_type": "code",
      "metadata": {
        "colab": {
          "base_uri": "https://localhost:8080/",
          "height": 295
        },
        "id": "t8RZUOufFlte",
        "outputId": "8fa7fe6c-f3eb-41ce-a417-58ad9fef5a04"
      },
      "source": [
        "plt.plot(hist_2.history['accuracy'])\n",
        "plt.plot(hist_2.history['val_accuracy'])\n",
        "plt.title('Model accuracy')\n",
        "plt.ylabel('Accuracy')\n",
        "plt.xlabel('Epoch')\n",
        "plt.legend(['Train', 'Val'], loc='lower right')\n",
        "plt.show()"
      ],
      "execution_count": 22,
      "outputs": [
        {
          "output_type": "display_data",
          "data": {
            "image/png": "[encoded data removed]",
            "text/plain": [
              "<Figure size 432x288 with 1 Axes>"
            ]
          },
          "metadata": {
            "needs_background": "light"
          }
        }
      ]
    },
    {
      "cell_type": "code",
      "metadata": {
        "id": "SJ4YWjYqFrxj"
      },
      "source": [
        "from keras.layers import Dropout\n",
        "from keras import regularizers"
      ],
      "execution_count": 23,
      "outputs": []
    },
    {
      "cell_type": "code",
      "metadata": {
        "id": "N1vM8osgFvje"
      },
      "source": [
        "model_3 = Sequential([\n",
        "Dense(1000, activation='relu', kernel_regularizer=regularizers.l2(0.01), input_shape=(10,)),\n",
        "Dropout(0.3),\n",
        "Dense(1000, activation='relu', kernel_regularizer=regularizers.l2(0.01)),\n",
        "Dropout(0.3),\n",
        "Dense(1000, activation='relu', kernel_regularizer=regularizers.l2(0.01)),\n",
        "Dropout(0.3),\n",
        "Dense(1000, activation='relu', kernel_regularizer=regularizers.l2(0.01)),\n",
        "Dropout(0.3),\n",
        "Dense(1, activation='sigmoid', kernel_regularizer=regularizers.l2(0.01)),\n",
        "])\n",
        "model_3.compile(optimizer='adam',\n",
        "loss='binary_crossentropy',\n",
        "metrics=['accuracy'])"
      ],
      "execution_count": 24,
      "outputs": []
    },
    {
      "cell_type": "code",
      "metadata": {
        "id": "vENkYogJFzLl"
      },
      "source": [
        "model_3.compile(optimizer='adam',\n",
        "loss='binary_crossentropy',\n",
        "metrics=['accuracy'])"
      ],
      "execution_count": 25,
      "outputs": []
    },
    {
      "cell_type": "code",
      "metadata": {
        "colab": {
          "base_uri": "https://localhost:8080/"
        },
        "id": "I9ABIS6aGFGA",
        "outputId": "7a567b92-7487-482e-e1e1-16ecc1a7aa05"
      },
      "source": [
        "hist_3 = model_3.fit(X_train, Y_train,\n",
        "batch_size=32, epochs=100,\n",
        "validation_data=(X_val, Y_val))"
      ],
      "execution_count": 26,
      "outputs": [
        {
          "output_type": "stream",
          "name": "stdout",
          "text": [
            "Epoch 1/100\n",
            "32/32 [==============================] - 3s 61ms/step - loss: 14.2422 - accuracy: 0.5832 - val_loss: 3.8988 - val_accuracy: 0.8725\n",
            "Epoch 2/100\n",
            "32/32 [==============================] - 2s 62ms/step - loss: 1.7122 - accuracy: 0.7926 - val_loss: 0.6614 - val_accuracy: 0.8595\n",
            "Epoch 3/100\n",
            "32/32 [==============================] - 2s 54ms/step - loss: 0.5656 - accuracy: 0.8464 - val_loss: 0.4635 - val_accuracy: 0.8987\n",
            "Epoch 4/100\n",
            "32/32 [==============================] - 2s 55ms/step - loss: 0.5245 - accuracy: 0.8503 - val_loss: 0.4512 - val_accuracy: 0.9020\n",
            "Epoch 5/100\n",
            "32/32 [==============================] - 2s 47ms/step - loss: 0.4938 - accuracy: 0.8552 - val_loss: 0.4413 - val_accuracy: 0.8954\n",
            "Epoch 6/100\n",
            "32/32 [==============================] - 2s 47ms/step - loss: 0.4856 - accuracy: 0.8620 - val_loss: 0.4353 - val_accuracy: 0.8987\n",
            "Epoch 7/100\n",
            "32/32 [==============================] - 2s 57ms/step - loss: 0.4898 - accuracy: 0.8591 - val_loss: 0.4242 - val_accuracy: 0.9052\n",
            "Epoch 8/100\n",
            "32/32 [==============================] - 2s 54ms/step - loss: 0.4712 - accuracy: 0.8640 - val_loss: 0.4184 - val_accuracy: 0.9085\n",
            "Epoch 9/100\n",
            "32/32 [==============================] - 2s 62ms/step - loss: 0.4590 - accuracy: 0.8708 - val_loss: 0.4597 - val_accuracy: 0.8791\n",
            "Epoch 10/100\n",
            "32/32 [==============================] - 2s 61ms/step - loss: 0.4672 - accuracy: 0.8806 - val_loss: 0.4092 - val_accuracy: 0.9216\n",
            "Epoch 11/100\n",
            "32/32 [==============================] - 2s 61ms/step - loss: 0.4619 - accuracy: 0.8620 - val_loss: 0.4192 - val_accuracy: 0.9150\n",
            "Epoch 12/100\n",
            "32/32 [==============================] - 2s 63ms/step - loss: 0.4623 - accuracy: 0.8748 - val_loss: 0.4111 - val_accuracy: 0.9150\n",
            "Epoch 13/100\n",
            "32/32 [==============================] - 2s 50ms/step - loss: 0.4516 - accuracy: 0.8728 - val_loss: 0.4067 - val_accuracy: 0.9020\n",
            "Epoch 14/100\n",
            "32/32 [==============================] - 2s 56ms/step - loss: 0.4641 - accuracy: 0.8669 - val_loss: 0.4020 - val_accuracy: 0.9183\n",
            "Epoch 15/100\n",
            "32/32 [==============================] - 2s 63ms/step - loss: 0.5184 - accuracy: 0.8493 - val_loss: 0.4592 - val_accuracy: 0.8791\n",
            "Epoch 16/100\n",
            "32/32 [==============================] - 2s 52ms/step - loss: 0.4582 - accuracy: 0.8845 - val_loss: 0.3960 - val_accuracy: 0.9216\n",
            "Epoch 17/100\n",
            "32/32 [==============================] - 2s 58ms/step - loss: 0.4661 - accuracy: 0.8630 - val_loss: 0.4160 - val_accuracy: 0.9183\n",
            "Epoch 18/100\n",
            "32/32 [==============================] - 2s 47ms/step - loss: 0.4582 - accuracy: 0.8591 - val_loss: 0.4020 - val_accuracy: 0.8987\n",
            "Epoch 19/100\n",
            "32/32 [==============================] - 2s 55ms/step - loss: 0.4501 - accuracy: 0.8728 - val_loss: 0.3909 - val_accuracy: 0.9216\n",
            "Epoch 20/100\n",
            "32/32 [==============================] - 2s 58ms/step - loss: 0.4502 - accuracy: 0.8708 - val_loss: 0.4018 - val_accuracy: 0.9216\n",
            "Epoch 21/100\n",
            "32/32 [==============================] - 2s 61ms/step - loss: 0.4520 - accuracy: 0.8708 - val_loss: 0.3877 - val_accuracy: 0.9248\n",
            "Epoch 22/100\n",
            "32/32 [==============================] - 2s 52ms/step - loss: 0.4746 - accuracy: 0.8620 - val_loss: 0.4004 - val_accuracy: 0.9150\n",
            "Epoch 23/100\n",
            "32/32 [==============================] - 2s 48ms/step - loss: 0.4875 - accuracy: 0.8601 - val_loss: 0.4071 - val_accuracy: 0.9248\n",
            "Epoch 24/100\n",
            "32/32 [==============================] - 1s 47ms/step - loss: 0.4630 - accuracy: 0.8630 - val_loss: 0.4279 - val_accuracy: 0.8889\n",
            "Epoch 25/100\n",
            "32/32 [==============================] - 2s 51ms/step - loss: 0.4801 - accuracy: 0.8601 - val_loss: 0.3949 - val_accuracy: 0.9248\n",
            "Epoch 26/100\n",
            "32/32 [==============================] - 2s 50ms/step - loss: 0.4651 - accuracy: 0.8542 - val_loss: 0.3940 - val_accuracy: 0.9183\n",
            "Epoch 27/100\n",
            "32/32 [==============================] - 2s 48ms/step - loss: 0.4463 - accuracy: 0.8806 - val_loss: 0.4040 - val_accuracy: 0.8954\n",
            "Epoch 28/100\n",
            "32/32 [==============================] - 2s 48ms/step - loss: 0.4592 - accuracy: 0.8650 - val_loss: 0.4165 - val_accuracy: 0.8922\n",
            "Epoch 29/100\n",
            "32/32 [==============================] - 2s 61ms/step - loss: 0.4550 - accuracy: 0.8581 - val_loss: 0.3875 - val_accuracy: 0.9216\n",
            "Epoch 30/100\n",
            "32/32 [==============================] - 2s 53ms/step - loss: 0.4394 - accuracy: 0.8738 - val_loss: 0.4254 - val_accuracy: 0.8856\n",
            "Epoch 31/100\n",
            "32/32 [==============================] - 2s 64ms/step - loss: 0.4525 - accuracy: 0.8738 - val_loss: 0.3864 - val_accuracy: 0.9085\n",
            "Epoch 32/100\n",
            "32/32 [==============================] - 2s 57ms/step - loss: 0.4428 - accuracy: 0.8796 - val_loss: 0.3905 - val_accuracy: 0.9183\n",
            "Epoch 33/100\n",
            "32/32 [==============================] - 2s 59ms/step - loss: 0.4461 - accuracy: 0.8796 - val_loss: 0.3917 - val_accuracy: 0.9150\n",
            "Epoch 34/100\n",
            "32/32 [==============================] - 2s 54ms/step - loss: 0.4415 - accuracy: 0.8796 - val_loss: 0.4023 - val_accuracy: 0.9183\n",
            "Epoch 35/100\n",
            "32/32 [==============================] - 2s 54ms/step - loss: 0.4530 - accuracy: 0.8650 - val_loss: 0.3847 - val_accuracy: 0.9183\n",
            "Epoch 36/100\n",
            "32/32 [==============================] - 2s 50ms/step - loss: 0.4382 - accuracy: 0.8748 - val_loss: 0.3915 - val_accuracy: 0.9150\n",
            "Epoch 37/100\n",
            "32/32 [==============================] - 2s 48ms/step - loss: 0.4650 - accuracy: 0.8620 - val_loss: 0.3856 - val_accuracy: 0.9118\n",
            "Epoch 38/100\n",
            "32/32 [==============================] - 2s 62ms/step - loss: 0.4318 - accuracy: 0.8767 - val_loss: 0.3844 - val_accuracy: 0.9216\n",
            "Epoch 39/100\n",
            "32/32 [==============================] - 2s 52ms/step - loss: 0.4321 - accuracy: 0.8865 - val_loss: 0.4030 - val_accuracy: 0.9183\n",
            "Epoch 40/100\n",
            "32/32 [==============================] - 2s 63ms/step - loss: 0.4293 - accuracy: 0.8836 - val_loss: 0.3916 - val_accuracy: 0.9150\n",
            "Epoch 41/100\n",
            "32/32 [==============================] - 2s 63ms/step - loss: 0.4488 - accuracy: 0.8718 - val_loss: 0.4018 - val_accuracy: 0.8987\n",
            "Epoch 42/100\n",
            "32/32 [==============================] - 2s 63ms/step - loss: 0.4380 - accuracy: 0.8669 - val_loss: 0.3923 - val_accuracy: 0.9150\n",
            "Epoch 43/100\n",
            "32/32 [==============================] - 2s 64ms/step - loss: 0.4763 - accuracy: 0.8679 - val_loss: 0.4735 - val_accuracy: 0.8497\n",
            "Epoch 44/100\n",
            "32/32 [==============================] - 2s 54ms/step - loss: 0.4457 - accuracy: 0.8728 - val_loss: 0.3843 - val_accuracy: 0.9150\n",
            "Epoch 45/100\n",
            "32/32 [==============================] - 2s 52ms/step - loss: 0.4441 - accuracy: 0.8787 - val_loss: 0.4103 - val_accuracy: 0.9150\n",
            "Epoch 46/100\n",
            "32/32 [==============================] - 2s 59ms/step - loss: 0.4515 - accuracy: 0.8640 - val_loss: 0.4050 - val_accuracy: 0.9150\n",
            "Epoch 47/100\n",
            "32/32 [==============================] - 2s 57ms/step - loss: 0.4458 - accuracy: 0.8777 - val_loss: 0.3839 - val_accuracy: 0.9118\n",
            "Epoch 48/100\n",
            "32/32 [==============================] - 2s 64ms/step - loss: 0.4498 - accuracy: 0.8708 - val_loss: 0.3819 - val_accuracy: 0.9183\n",
            "Epoch 49/100\n",
            "32/32 [==============================] - 2s 55ms/step - loss: 0.4316 - accuracy: 0.8806 - val_loss: 0.3863 - val_accuracy: 0.9183\n",
            "Epoch 50/100\n",
            "32/32 [==============================] - 2s 63ms/step - loss: 0.4441 - accuracy: 0.8748 - val_loss: 0.3837 - val_accuracy: 0.9183\n",
            "Epoch 51/100\n",
            "32/32 [==============================] - 2s 64ms/step - loss: 0.4323 - accuracy: 0.8728 - val_loss: 0.3844 - val_accuracy: 0.9118\n",
            "Epoch 52/100\n",
            "32/32 [==============================] - 2s 49ms/step - loss: 0.4324 - accuracy: 0.8796 - val_loss: 0.3804 - val_accuracy: 0.9183\n",
            "Epoch 53/100\n",
            "32/32 [==============================] - 2s 49ms/step - loss: 0.4354 - accuracy: 0.8816 - val_loss: 0.4014 - val_accuracy: 0.8987\n",
            "Epoch 54/100\n",
            "32/32 [==============================] - 2s 64ms/step - loss: 0.4403 - accuracy: 0.8777 - val_loss: 0.3806 - val_accuracy: 0.9118\n",
            "Epoch 55/100\n",
            "32/32 [==============================] - 2s 64ms/step - loss: 0.4350 - accuracy: 0.8679 - val_loss: 0.3921 - val_accuracy: 0.9183\n",
            "Epoch 56/100\n",
            "32/32 [==============================] - 2s 57ms/step - loss: 0.4292 - accuracy: 0.8757 - val_loss: 0.3848 - val_accuracy: 0.8987\n",
            "Epoch 57/100\n",
            "32/32 [==============================] - 2s 58ms/step - loss: 0.4333 - accuracy: 0.8816 - val_loss: 0.4094 - val_accuracy: 0.8954\n",
            "Epoch 58/100\n",
            "32/32 [==============================] - 2s 48ms/step - loss: 0.4568 - accuracy: 0.8699 - val_loss: 0.3828 - val_accuracy: 0.9248\n",
            "Epoch 59/100\n",
            "32/32 [==============================] - 2s 56ms/step - loss: 0.4509 - accuracy: 0.8601 - val_loss: 0.3888 - val_accuracy: 0.9183\n",
            "Epoch 60/100\n",
            "32/32 [==============================] - 2s 50ms/step - loss: 0.4379 - accuracy: 0.8796 - val_loss: 0.3853 - val_accuracy: 0.9150\n",
            "Epoch 61/100\n",
            "32/32 [==============================] - 2s 64ms/step - loss: 0.4324 - accuracy: 0.8816 - val_loss: 0.3812 - val_accuracy: 0.9216\n",
            "Epoch 62/100\n",
            "32/32 [==============================] - 2s 54ms/step - loss: 0.4257 - accuracy: 0.8865 - val_loss: 0.3800 - val_accuracy: 0.9183\n",
            "Epoch 63/100\n",
            "32/32 [==============================] - 2s 57ms/step - loss: 0.4290 - accuracy: 0.8826 - val_loss: 0.3799 - val_accuracy: 0.9150\n",
            "Epoch 64/100\n",
            "32/32 [==============================] - 2s 48ms/step - loss: 0.4465 - accuracy: 0.8748 - val_loss: 0.3977 - val_accuracy: 0.8987\n",
            "Epoch 65/100\n",
            "32/32 [==============================] - 2s 56ms/step - loss: 0.4402 - accuracy: 0.8689 - val_loss: 0.3855 - val_accuracy: 0.9216\n",
            "Epoch 66/100\n",
            "32/32 [==============================] - 2s 56ms/step - loss: 0.4370 - accuracy: 0.8767 - val_loss: 0.3803 - val_accuracy: 0.9118\n",
            "Epoch 67/100\n",
            "32/32 [==============================] - 2s 49ms/step - loss: 0.4335 - accuracy: 0.8718 - val_loss: 0.4232 - val_accuracy: 0.8987\n",
            "Epoch 68/100\n",
            "32/32 [==============================] - 2s 58ms/step - loss: 0.4400 - accuracy: 0.8748 - val_loss: 0.3822 - val_accuracy: 0.9150\n",
            "Epoch 69/100\n",
            "32/32 [==============================] - 2s 64ms/step - loss: 0.4346 - accuracy: 0.8826 - val_loss: 0.3815 - val_accuracy: 0.9183\n",
            "Epoch 70/100\n",
            "32/32 [==============================] - 2s 49ms/step - loss: 0.4291 - accuracy: 0.8816 - val_loss: 0.3903 - val_accuracy: 0.9183\n",
            "Epoch 71/100\n",
            "32/32 [==============================] - 2s 48ms/step - loss: 0.4324 - accuracy: 0.8757 - val_loss: 0.3824 - val_accuracy: 0.9183\n",
            "Epoch 72/100\n",
            "32/32 [==============================] - 2s 47ms/step - loss: 0.4545 - accuracy: 0.8757 - val_loss: 0.3903 - val_accuracy: 0.9183\n",
            "Epoch 73/100\n",
            "32/32 [==============================] - 2s 47ms/step - loss: 0.4479 - accuracy: 0.8699 - val_loss: 0.3922 - val_accuracy: 0.9216\n",
            "Epoch 74/100\n",
            "32/32 [==============================] - 2s 55ms/step - loss: 0.4313 - accuracy: 0.8718 - val_loss: 0.3966 - val_accuracy: 0.9183\n",
            "Epoch 75/100\n",
            "32/32 [==============================] - 2s 55ms/step - loss: 0.4456 - accuracy: 0.8806 - val_loss: 0.4063 - val_accuracy: 0.9183\n",
            "Epoch 76/100\n",
            "32/32 [==============================] - 2s 49ms/step - loss: 0.4500 - accuracy: 0.8699 - val_loss: 0.4254 - val_accuracy: 0.9118\n",
            "Epoch 77/100\n",
            "32/32 [==============================] - 2s 48ms/step - loss: 0.4398 - accuracy: 0.8826 - val_loss: 0.3870 - val_accuracy: 0.9183\n",
            "Epoch 78/100\n",
            "32/32 [==============================] - 2s 58ms/step - loss: 0.4363 - accuracy: 0.8718 - val_loss: 0.3883 - val_accuracy: 0.9150\n",
            "Epoch 79/100\n",
            "32/32 [==============================] - 2s 63ms/step - loss: 0.4241 - accuracy: 0.8885 - val_loss: 0.3798 - val_accuracy: 0.9183\n",
            "Epoch 80/100\n",
            "32/32 [==============================] - 2s 64ms/step - loss: 0.4383 - accuracy: 0.8826 - val_loss: 0.3814 - val_accuracy: 0.9052\n",
            "Epoch 81/100\n",
            "32/32 [==============================] - 2s 61ms/step - loss: 0.4301 - accuracy: 0.8728 - val_loss: 0.3802 - val_accuracy: 0.9183\n",
            "Epoch 82/100\n",
            "32/32 [==============================] - 2s 55ms/step - loss: 0.4351 - accuracy: 0.8757 - val_loss: 0.3962 - val_accuracy: 0.8987\n",
            "Epoch 83/100\n",
            "32/32 [==============================] - 2s 57ms/step - loss: 0.4380 - accuracy: 0.8757 - val_loss: 0.3914 - val_accuracy: 0.9150\n",
            "Epoch 84/100\n",
            "32/32 [==============================] - 2s 50ms/step - loss: 0.4484 - accuracy: 0.8738 - val_loss: 0.3845 - val_accuracy: 0.9183\n",
            "Epoch 85/100\n",
            "32/32 [==============================] - 2s 53ms/step - loss: 0.4512 - accuracy: 0.8738 - val_loss: 0.3808 - val_accuracy: 0.9248\n",
            "Epoch 86/100\n",
            "32/32 [==============================] - 2s 56ms/step - loss: 0.4336 - accuracy: 0.8787 - val_loss: 0.3833 - val_accuracy: 0.9216\n",
            "Epoch 87/100\n",
            "32/32 [==============================] - 2s 60ms/step - loss: 0.4363 - accuracy: 0.8757 - val_loss: 0.3995 - val_accuracy: 0.9183\n",
            "Epoch 88/100\n",
            "32/32 [==============================] - 2s 60ms/step - loss: 0.4305 - accuracy: 0.8865 - val_loss: 0.3787 - val_accuracy: 0.9150\n",
            "Epoch 89/100\n",
            "32/32 [==============================] - 2s 58ms/step - loss: 0.4332 - accuracy: 0.8855 - val_loss: 0.4011 - val_accuracy: 0.9118\n",
            "Epoch 90/100\n",
            "32/32 [==============================] - 2s 50ms/step - loss: 0.4371 - accuracy: 0.8689 - val_loss: 0.3913 - val_accuracy: 0.9150\n",
            "Epoch 91/100\n",
            "32/32 [==============================] - 2s 62ms/step - loss: 0.4503 - accuracy: 0.8689 - val_loss: 0.4326 - val_accuracy: 0.8922\n",
            "Epoch 92/100\n",
            "32/32 [==============================] - 2s 59ms/step - loss: 0.4342 - accuracy: 0.8855 - val_loss: 0.3828 - val_accuracy: 0.9183\n",
            "Epoch 93/100\n",
            "32/32 [==============================] - 2s 57ms/step - loss: 0.4338 - accuracy: 0.8738 - val_loss: 0.3904 - val_accuracy: 0.9150\n",
            "Epoch 94/100\n",
            "32/32 [==============================] - 2s 49ms/step - loss: 0.4339 - accuracy: 0.8826 - val_loss: 0.3897 - val_accuracy: 0.9150\n",
            "Epoch 95/100\n",
            "32/32 [==============================] - 2s 49ms/step - loss: 0.4375 - accuracy: 0.8718 - val_loss: 0.4020 - val_accuracy: 0.9150\n",
            "Epoch 96/100\n",
            "32/32 [==============================] - 2s 48ms/step - loss: 0.4336 - accuracy: 0.8836 - val_loss: 0.3891 - val_accuracy: 0.9183\n",
            "Epoch 97/100\n",
            "32/32 [==============================] - 2s 63ms/step - loss: 0.4610 - accuracy: 0.8611 - val_loss: 0.4259 - val_accuracy: 0.8954\n",
            "Epoch 98/100\n",
            "32/32 [==============================] - 2s 56ms/step - loss: 0.4420 - accuracy: 0.8767 - val_loss: 0.3944 - val_accuracy: 0.9150\n",
            "Epoch 99/100\n",
            "32/32 [==============================] - 2s 60ms/step - loss: 0.4363 - accuracy: 0.8748 - val_loss: 0.3937 - val_accuracy: 0.9183\n",
            "Epoch 100/100\n",
            "32/32 [==============================] - 2s 62ms/step - loss: 0.4368 - accuracy: 0.8885 - val_loss: 0.4218 - val_accuracy: 0.9118\n"
          ]
        }
      ]
    },
    {
      "cell_type": "code",
      "metadata": {
        "colab": {
          "base_uri": "https://localhost:8080/",
          "height": 295
        },
        "id": "cFij23kcG9Io",
        "outputId": "33793ac6-f3d5-42cc-b533-7726fb955122"
      },
      "source": [
        "plt.plot(hist_3.history['loss'])\n",
        "plt.plot(hist_3.history['val_loss'])\n",
        "plt.title('Model loss')\n",
        "plt.ylabel('Loss')\n",
        "plt.xlabel('Epoch')\n",
        "plt.legend(['Train', 'Val'], loc='upper right')\n",
        "plt.ylim(top=1.2, bottom=0)\n",
        "plt.show()"
      ],
      "execution_count": 27,
      "outputs": [
        {
          "output_type": "display_data",
          "data": {
            "image/png": "[encoded data removed]",
            "text/plain": [
              "<Figure size 432x288 with 1 Axes>"
            ]
          },
          "metadata": {
            "needs_background": "light"
          }
        }
      ]
    },
    {
      "cell_type": "code",
      "metadata": {
        "colab": {
          "base_uri": "https://localhost:8080/",
          "height": 295
        },
        "id": "R44LFd1NHCqw",
        "outputId": "3ecdadab-1460-4a3e-e0a5-9f7c18fe2dcf"
      },
      "source": [
        "plt.plot(hist_3.history['accuracy'])\n",
        "plt.plot(hist_3.history['val_accuracy'])\n",
        "plt.title('Model accuracy')\n",
        "plt.ylabel('Accuracy')\n",
        "plt.xlabel('Epoch')\n",
        "plt.legend(['Train', 'Val'], loc='lower right')\n",
        "plt.show()"
      ],
      "execution_count": 28,
      "outputs": [
        {
          "output_type": "display_data",
          "data": {
            "image/png": "[encoded data removed]",
            "text/plain": [
              "<Figure size 432x288 with 1 Axes>"
            ]
          },
          "metadata": {
            "needs_background": "light"
          }
        }
      ]
    }
  ]
}